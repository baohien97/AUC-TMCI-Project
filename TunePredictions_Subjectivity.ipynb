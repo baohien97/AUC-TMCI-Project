{
 "cells": [
  {
   "cell_type": "code",
   "execution_count": 1,
   "metadata": {},
   "outputs": [],
   "source": [
    "from IPython.core.interactiveshell import InteractiveShell\n",
    "InteractiveShell.ast_node_interactivity = \"all\""
   ]
  },
  {
   "cell_type": "code",
   "execution_count": 2,
   "metadata": {},
   "outputs": [],
   "source": [
    "import pandas as pd\n",
    "import numpy as np\n",
    "\n",
    "# sklearn stuff\n",
    "from sklearn.model_selection import train_test_split\n",
    "from sklearn.naive_bayes import GaussianNB\n",
    "from sklearn.linear_model import LogisticRegression\n",
    "from sklearn.svm import SVC\n",
    "\n",
    "# metrics\n",
    "from sklearn.metrics import classification_report\n",
    "from sklearn.metrics import accuracy_score\n",
    "\n",
    "# tuning\n",
    "from sklearn.model_selection import cross_val_score, GridSearchCV #BONUS\n",
    "\n",
    "# plotting\n",
    "import matplotlib.pyplot as plt"
   ]
  },
  {
   "cell_type": "code",
   "execution_count": 3,
   "metadata": {},
   "outputs": [],
   "source": [
    "data = pd.read_pickle(\"fully_labeled_data.pkl\")"
   ]
  },
  {
   "cell_type": "code",
   "execution_count": 6,
   "metadata": {},
   "outputs": [
    {
     "data": {
      "text/plain": [
       "(1989, 1065)"
      ]
     },
     "execution_count": 6,
     "metadata": {},
     "output_type": "execute_result"
    }
   ],
   "source": [
    "len(data.stock_label), len([val for val in data.stock_label if val == 1])"
   ]
  },
  {
   "cell_type": "code",
   "execution_count": 8,
   "metadata": {},
   "outputs": [
    {
     "data": {
      "text/plain": [
       "0.5354449472096531"
      ]
     },
     "execution_count": 8,
     "metadata": {},
     "output_type": "execute_result"
    }
   ],
   "source": [
    "1065/1989"
   ]
  },
  {
   "cell_type": "code",
   "execution_count": 9,
   "metadata": {},
   "outputs": [],
   "source": [
    "X = [] # sentiment labels\n",
    "y = [] # stock labels\n",
    "\n",
    "for index,row in data.iterrows():\n",
    "    row_sent_labels = []\n",
    "    \n",
    "    for i in range(1, 26):\n",
    "        subj = data.at[index, \"Top{}_subj\".format(i)]\n",
    "        row_sent_labels.append(subj)\n",
    "    X.append(row_sent_labels)\n",
    "    y.append(data.at[index, \"stock_label\"])\n",
    "    \n",
    "X = np.array(X)\n",
    "\n",
    "X_train, X_test, y_train, y_test = train_test_split(X, y, test_size=0.2, random_state=42)"
   ]
  },
  {
   "cell_type": "code",
   "execution_count": 13,
   "metadata": {},
   "outputs": [
    {
     "data": {
      "text/plain": [
       "(1591, 838)"
      ]
     },
     "execution_count": 13,
     "metadata": {},
     "output_type": "execute_result"
    }
   ],
   "source": [
    "len(y_train), len([val for val in y_train if val == 1])"
   ]
  },
  {
   "cell_type": "code",
   "execution_count": 14,
   "metadata": {},
   "outputs": [
    {
     "data": {
      "text/plain": [
       "0.5267127592708988"
      ]
     },
     "execution_count": 14,
     "metadata": {},
     "output_type": "execute_result"
    }
   ],
   "source": [
    "838/1591"
   ]
  },
  {
   "cell_type": "code",
   "execution_count": 201,
   "metadata": {},
   "outputs": [],
   "source": [
    "gnb = GaussianNB().fit(X_train, y_train)\n",
    "log_reg = LogisticRegression(random_state=0, solver='lbfgs').fit(X_train, y_train)\n",
    "svm = SVC(gamma=\"auto\").fit(X_train, y_train)"
   ]
  },
  {
   "cell_type": "code",
   "execution_count": 202,
   "metadata": {},
   "outputs": [],
   "source": [
    "# function to report accuracy on cross validation sets\n",
    "def report_accuracy(moment, clf_name, clf, x_train, y_train):\n",
    "    cv_error = cross_val_score(clf, x_train, y_train, scoring=\"accuracy\", cv=10)\n",
    "    print(moment + \" customisation, average accuracy of \" + clf_name + \" : \", cv_error.mean(),\n",
    "          \" standard deviation: \", np.std(cv_error))"
   ]
  },
  {
   "cell_type": "code",
   "execution_count": 203,
   "metadata": {},
   "outputs": [
    {
     "name": "stdout",
     "output_type": "stream",
     "text": [
      "Before customisation, average accuracy of Bayes :  0.5273352539606719  standard deviation:  0.028842624622292944\n",
      "Before customisation, average accuracy of LR :  0.5286090378950721  standard deviation:  0.0275442052412255\n",
      "Before customisation, average accuracy of SVM :  0.520397360878911  standard deviation:  0.03664975091367799\n"
     ]
    }
   ],
   "source": [
    "report_accuracy(\"Before\", \"Bayes\", gnb, X_train, y_train)\n",
    "report_accuracy(\"Before\", \"LR\", log_reg, X_train, y_train)\n",
    "report_accuracy(\"Before\", \"SVM\", svm, X_train, y_train)"
   ]
  },
  {
   "cell_type": "code",
   "execution_count": 204,
   "metadata": {},
   "outputs": [],
   "source": [
    "def tune_params(clf, param_grid, x_train, y_train):\n",
    "    grid_search = GridSearchCV(clf, param_grid=param_grid, cv=10)\n",
    "    grid_search.fit(x_train, y_train)\n",
    "    best_params = list(grid_search.best_params_.values())\n",
    "    \"\"\"plt.plot(param_grid[param_name], grid_search.cv_results_['mean_test_score']) # plot accuracy scores against parameters\n",
    "    plt.title(\"Performances of \" + param_name)\n",
    "    plt.xlabel(param_name)\n",
    "    plt.ylabel(\"Scores\")\"\"\"\n",
    "    return best_params"
   ]
  },
  {
   "cell_type": "code",
   "execution_count": 205,
   "metadata": {},
   "outputs": [],
   "source": [
    "#tune lambda with GridSearchCV\n",
    "logreg_params = {'C': [0.1, 0.01, 0.001, 1, 10, 100, 1000]} # regularisation params to be considered\n",
    "best_logreg_params = tune_params(log_reg, logreg_params, X_train, y_train)"
   ]
  },
  {
   "cell_type": "code",
   "execution_count": 206,
   "metadata": {},
   "outputs": [
    {
     "data": {
      "text/plain": [
       "[0.1]"
      ]
     },
     "execution_count": 206,
     "metadata": {},
     "output_type": "execute_result"
    }
   ],
   "source": [
    "best_logreg_params"
   ]
  },
  {
   "cell_type": "code",
   "execution_count": 222,
   "metadata": {},
   "outputs": [],
   "source": [
    "log_reg_tuned = LogisticRegression(random_state=0, solver='lbfgs', C=best_logreg_params[0]).fit(X_train, y_train)"
   ]
  },
  {
   "cell_type": "code",
   "execution_count": 209,
   "metadata": {},
   "outputs": [
    {
     "name": "stdout",
     "output_type": "stream",
     "text": [
      "After customisation, average accuracy of LR :  0.5342379189554972  standard deviation:  0.03287461877196838\n"
     ]
    }
   ],
   "source": [
    "report_accuracy(\"After\", \"LR\", log_reg_tuned, X_train, y_train)"
   ]
  },
  {
   "cell_type": "code",
   "execution_count": 210,
   "metadata": {},
   "outputs": [
    {
     "name": "stderr",
     "output_type": "stream",
     "text": [
      "/home/hienle/Documents/AUC Studies/6. Sem 6 - Fall 2018/SCI Text Mining and Collective Intelligence/venv/lib/python3.6/site-packages/sklearn/svm/base.py:244: ConvergenceWarning: Solver terminated early (max_iter=1).  Consider pre-processing your data with StandardScaler or MinMaxScaler.\n",
      "  % self.max_iter, ConvergenceWarning)\n",
      "/home/hienle/Documents/AUC Studies/6. Sem 6 - Fall 2018/SCI Text Mining and Collective Intelligence/venv/lib/python3.6/site-packages/sklearn/svm/base.py:244: ConvergenceWarning: Solver terminated early (max_iter=1).  Consider pre-processing your data with StandardScaler or MinMaxScaler.\n",
      "  % self.max_iter, ConvergenceWarning)\n",
      "/home/hienle/Documents/AUC Studies/6. Sem 6 - Fall 2018/SCI Text Mining and Collective Intelligence/venv/lib/python3.6/site-packages/sklearn/svm/base.py:244: ConvergenceWarning: Solver terminated early (max_iter=1).  Consider pre-processing your data with StandardScaler or MinMaxScaler.\n",
      "  % self.max_iter, ConvergenceWarning)\n",
      "/home/hienle/Documents/AUC Studies/6. Sem 6 - Fall 2018/SCI Text Mining and Collective Intelligence/venv/lib/python3.6/site-packages/sklearn/svm/base.py:244: ConvergenceWarning: Solver terminated early (max_iter=1).  Consider pre-processing your data with StandardScaler or MinMaxScaler.\n",
      "  % self.max_iter, ConvergenceWarning)\n",
      "/home/hienle/Documents/AUC Studies/6. Sem 6 - Fall 2018/SCI Text Mining and Collective Intelligence/venv/lib/python3.6/site-packages/sklearn/svm/base.py:244: ConvergenceWarning: Solver terminated early (max_iter=1).  Consider pre-processing your data with StandardScaler or MinMaxScaler.\n",
      "  % self.max_iter, ConvergenceWarning)\n",
      "/home/hienle/Documents/AUC Studies/6. Sem 6 - Fall 2018/SCI Text Mining and Collective Intelligence/venv/lib/python3.6/site-packages/sklearn/svm/base.py:244: ConvergenceWarning: Solver terminated early (max_iter=1).  Consider pre-processing your data with StandardScaler or MinMaxScaler.\n",
      "  % self.max_iter, ConvergenceWarning)\n",
      "/home/hienle/Documents/AUC Studies/6. Sem 6 - Fall 2018/SCI Text Mining and Collective Intelligence/venv/lib/python3.6/site-packages/sklearn/svm/base.py:244: ConvergenceWarning: Solver terminated early (max_iter=1).  Consider pre-processing your data with StandardScaler or MinMaxScaler.\n",
      "  % self.max_iter, ConvergenceWarning)\n",
      "/home/hienle/Documents/AUC Studies/6. Sem 6 - Fall 2018/SCI Text Mining and Collective Intelligence/venv/lib/python3.6/site-packages/sklearn/svm/base.py:244: ConvergenceWarning: Solver terminated early (max_iter=1).  Consider pre-processing your data with StandardScaler or MinMaxScaler.\n",
      "  % self.max_iter, ConvergenceWarning)\n",
      "/home/hienle/Documents/AUC Studies/6. Sem 6 - Fall 2018/SCI Text Mining and Collective Intelligence/venv/lib/python3.6/site-packages/sklearn/svm/base.py:244: ConvergenceWarning: Solver terminated early (max_iter=1).  Consider pre-processing your data with StandardScaler or MinMaxScaler.\n",
      "  % self.max_iter, ConvergenceWarning)\n",
      "/home/hienle/Documents/AUC Studies/6. Sem 6 - Fall 2018/SCI Text Mining and Collective Intelligence/venv/lib/python3.6/site-packages/sklearn/svm/base.py:244: ConvergenceWarning: Solver terminated early (max_iter=1).  Consider pre-processing your data with StandardScaler or MinMaxScaler.\n",
      "  % self.max_iter, ConvergenceWarning)\n",
      "/home/hienle/Documents/AUC Studies/6. Sem 6 - Fall 2018/SCI Text Mining and Collective Intelligence/venv/lib/python3.6/site-packages/sklearn/svm/base.py:244: ConvergenceWarning: Solver terminated early (max_iter=10).  Consider pre-processing your data with StandardScaler or MinMaxScaler.\n",
      "  % self.max_iter, ConvergenceWarning)\n",
      "/home/hienle/Documents/AUC Studies/6. Sem 6 - Fall 2018/SCI Text Mining and Collective Intelligence/venv/lib/python3.6/site-packages/sklearn/svm/base.py:244: ConvergenceWarning: Solver terminated early (max_iter=10).  Consider pre-processing your data with StandardScaler or MinMaxScaler.\n",
      "  % self.max_iter, ConvergenceWarning)\n",
      "/home/hienle/Documents/AUC Studies/6. Sem 6 - Fall 2018/SCI Text Mining and Collective Intelligence/venv/lib/python3.6/site-packages/sklearn/svm/base.py:244: ConvergenceWarning: Solver terminated early (max_iter=10).  Consider pre-processing your data with StandardScaler or MinMaxScaler.\n",
      "  % self.max_iter, ConvergenceWarning)\n",
      "/home/hienle/Documents/AUC Studies/6. Sem 6 - Fall 2018/SCI Text Mining and Collective Intelligence/venv/lib/python3.6/site-packages/sklearn/svm/base.py:244: ConvergenceWarning: Solver terminated early (max_iter=10).  Consider pre-processing your data with StandardScaler or MinMaxScaler.\n",
      "  % self.max_iter, ConvergenceWarning)\n",
      "/home/hienle/Documents/AUC Studies/6. Sem 6 - Fall 2018/SCI Text Mining and Collective Intelligence/venv/lib/python3.6/site-packages/sklearn/svm/base.py:244: ConvergenceWarning: Solver terminated early (max_iter=10).  Consider pre-processing your data with StandardScaler or MinMaxScaler.\n",
      "  % self.max_iter, ConvergenceWarning)\n",
      "/home/hienle/Documents/AUC Studies/6. Sem 6 - Fall 2018/SCI Text Mining and Collective Intelligence/venv/lib/python3.6/site-packages/sklearn/svm/base.py:244: ConvergenceWarning: Solver terminated early (max_iter=10).  Consider pre-processing your data with StandardScaler or MinMaxScaler.\n",
      "  % self.max_iter, ConvergenceWarning)\n",
      "/home/hienle/Documents/AUC Studies/6. Sem 6 - Fall 2018/SCI Text Mining and Collective Intelligence/venv/lib/python3.6/site-packages/sklearn/svm/base.py:244: ConvergenceWarning: Solver terminated early (max_iter=10).  Consider pre-processing your data with StandardScaler or MinMaxScaler.\n",
      "  % self.max_iter, ConvergenceWarning)\n",
      "/home/hienle/Documents/AUC Studies/6. Sem 6 - Fall 2018/SCI Text Mining and Collective Intelligence/venv/lib/python3.6/site-packages/sklearn/svm/base.py:244: ConvergenceWarning: Solver terminated early (max_iter=10).  Consider pre-processing your data with StandardScaler or MinMaxScaler.\n",
      "  % self.max_iter, ConvergenceWarning)\n",
      "/home/hienle/Documents/AUC Studies/6. Sem 6 - Fall 2018/SCI Text Mining and Collective Intelligence/venv/lib/python3.6/site-packages/sklearn/svm/base.py:244: ConvergenceWarning: Solver terminated early (max_iter=10).  Consider pre-processing your data with StandardScaler or MinMaxScaler.\n",
      "  % self.max_iter, ConvergenceWarning)\n",
      "/home/hienle/Documents/AUC Studies/6. Sem 6 - Fall 2018/SCI Text Mining and Collective Intelligence/venv/lib/python3.6/site-packages/sklearn/svm/base.py:244: ConvergenceWarning: Solver terminated early (max_iter=10).  Consider pre-processing your data with StandardScaler or MinMaxScaler.\n",
      "  % self.max_iter, ConvergenceWarning)\n",
      "/home/hienle/Documents/AUC Studies/6. Sem 6 - Fall 2018/SCI Text Mining and Collective Intelligence/venv/lib/python3.6/site-packages/sklearn/svm/base.py:244: ConvergenceWarning: Solver terminated early (max_iter=100).  Consider pre-processing your data with StandardScaler or MinMaxScaler.\n",
      "  % self.max_iter, ConvergenceWarning)\n",
      "/home/hienle/Documents/AUC Studies/6. Sem 6 - Fall 2018/SCI Text Mining and Collective Intelligence/venv/lib/python3.6/site-packages/sklearn/svm/base.py:244: ConvergenceWarning: Solver terminated early (max_iter=100).  Consider pre-processing your data with StandardScaler or MinMaxScaler.\n",
      "  % self.max_iter, ConvergenceWarning)\n",
      "/home/hienle/Documents/AUC Studies/6. Sem 6 - Fall 2018/SCI Text Mining and Collective Intelligence/venv/lib/python3.6/site-packages/sklearn/svm/base.py:244: ConvergenceWarning: Solver terminated early (max_iter=100).  Consider pre-processing your data with StandardScaler or MinMaxScaler.\n",
      "  % self.max_iter, ConvergenceWarning)\n",
      "/home/hienle/Documents/AUC Studies/6. Sem 6 - Fall 2018/SCI Text Mining and Collective Intelligence/venv/lib/python3.6/site-packages/sklearn/svm/base.py:244: ConvergenceWarning: Solver terminated early (max_iter=100).  Consider pre-processing your data with StandardScaler or MinMaxScaler.\n",
      "  % self.max_iter, ConvergenceWarning)\n",
      "/home/hienle/Documents/AUC Studies/6. Sem 6 - Fall 2018/SCI Text Mining and Collective Intelligence/venv/lib/python3.6/site-packages/sklearn/svm/base.py:244: ConvergenceWarning: Solver terminated early (max_iter=100).  Consider pre-processing your data with StandardScaler or MinMaxScaler.\n",
      "  % self.max_iter, ConvergenceWarning)\n"
     ]
    },
    {
     "name": "stderr",
     "output_type": "stream",
     "text": [
      "/home/hienle/Documents/AUC Studies/6. Sem 6 - Fall 2018/SCI Text Mining and Collective Intelligence/venv/lib/python3.6/site-packages/sklearn/svm/base.py:244: ConvergenceWarning: Solver terminated early (max_iter=100).  Consider pre-processing your data with StandardScaler or MinMaxScaler.\n",
      "  % self.max_iter, ConvergenceWarning)\n",
      "/home/hienle/Documents/AUC Studies/6. Sem 6 - Fall 2018/SCI Text Mining and Collective Intelligence/venv/lib/python3.6/site-packages/sklearn/svm/base.py:244: ConvergenceWarning: Solver terminated early (max_iter=100).  Consider pre-processing your data with StandardScaler or MinMaxScaler.\n",
      "  % self.max_iter, ConvergenceWarning)\n",
      "/home/hienle/Documents/AUC Studies/6. Sem 6 - Fall 2018/SCI Text Mining and Collective Intelligence/venv/lib/python3.6/site-packages/sklearn/svm/base.py:244: ConvergenceWarning: Solver terminated early (max_iter=100).  Consider pre-processing your data with StandardScaler or MinMaxScaler.\n",
      "  % self.max_iter, ConvergenceWarning)\n",
      "/home/hienle/Documents/AUC Studies/6. Sem 6 - Fall 2018/SCI Text Mining and Collective Intelligence/venv/lib/python3.6/site-packages/sklearn/svm/base.py:244: ConvergenceWarning: Solver terminated early (max_iter=100).  Consider pre-processing your data with StandardScaler or MinMaxScaler.\n",
      "  % self.max_iter, ConvergenceWarning)\n",
      "/home/hienle/Documents/AUC Studies/6. Sem 6 - Fall 2018/SCI Text Mining and Collective Intelligence/venv/lib/python3.6/site-packages/sklearn/svm/base.py:244: ConvergenceWarning: Solver terminated early (max_iter=100).  Consider pre-processing your data with StandardScaler or MinMaxScaler.\n",
      "  % self.max_iter, ConvergenceWarning)\n",
      "/home/hienle/Documents/AUC Studies/6. Sem 6 - Fall 2018/SCI Text Mining and Collective Intelligence/venv/lib/python3.6/site-packages/sklearn/svm/base.py:244: ConvergenceWarning: Solver terminated early (max_iter=1000).  Consider pre-processing your data with StandardScaler or MinMaxScaler.\n",
      "  % self.max_iter, ConvergenceWarning)\n",
      "/home/hienle/Documents/AUC Studies/6. Sem 6 - Fall 2018/SCI Text Mining and Collective Intelligence/venv/lib/python3.6/site-packages/sklearn/svm/base.py:244: ConvergenceWarning: Solver terminated early (max_iter=1000).  Consider pre-processing your data with StandardScaler or MinMaxScaler.\n",
      "  % self.max_iter, ConvergenceWarning)\n",
      "/home/hienle/Documents/AUC Studies/6. Sem 6 - Fall 2018/SCI Text Mining and Collective Intelligence/venv/lib/python3.6/site-packages/sklearn/svm/base.py:244: ConvergenceWarning: Solver terminated early (max_iter=1000).  Consider pre-processing your data with StandardScaler or MinMaxScaler.\n",
      "  % self.max_iter, ConvergenceWarning)\n",
      "/home/hienle/Documents/AUC Studies/6. Sem 6 - Fall 2018/SCI Text Mining and Collective Intelligence/venv/lib/python3.6/site-packages/sklearn/svm/base.py:244: ConvergenceWarning: Solver terminated early (max_iter=1000).  Consider pre-processing your data with StandardScaler or MinMaxScaler.\n",
      "  % self.max_iter, ConvergenceWarning)\n",
      "/home/hienle/Documents/AUC Studies/6. Sem 6 - Fall 2018/SCI Text Mining and Collective Intelligence/venv/lib/python3.6/site-packages/sklearn/svm/base.py:244: ConvergenceWarning: Solver terminated early (max_iter=1000).  Consider pre-processing your data with StandardScaler or MinMaxScaler.\n",
      "  % self.max_iter, ConvergenceWarning)\n",
      "/home/hienle/Documents/AUC Studies/6. Sem 6 - Fall 2018/SCI Text Mining and Collective Intelligence/venv/lib/python3.6/site-packages/sklearn/svm/base.py:244: ConvergenceWarning: Solver terminated early (max_iter=1000).  Consider pre-processing your data with StandardScaler or MinMaxScaler.\n",
      "  % self.max_iter, ConvergenceWarning)\n",
      "/home/hienle/Documents/AUC Studies/6. Sem 6 - Fall 2018/SCI Text Mining and Collective Intelligence/venv/lib/python3.6/site-packages/sklearn/svm/base.py:244: ConvergenceWarning: Solver terminated early (max_iter=1000).  Consider pre-processing your data with StandardScaler or MinMaxScaler.\n",
      "  % self.max_iter, ConvergenceWarning)\n",
      "/home/hienle/Documents/AUC Studies/6. Sem 6 - Fall 2018/SCI Text Mining and Collective Intelligence/venv/lib/python3.6/site-packages/sklearn/svm/base.py:244: ConvergenceWarning: Solver terminated early (max_iter=1000).  Consider pre-processing your data with StandardScaler or MinMaxScaler.\n",
      "  % self.max_iter, ConvergenceWarning)\n",
      "/home/hienle/Documents/AUC Studies/6. Sem 6 - Fall 2018/SCI Text Mining and Collective Intelligence/venv/lib/python3.6/site-packages/sklearn/svm/base.py:244: ConvergenceWarning: Solver terminated early (max_iter=1000).  Consider pre-processing your data with StandardScaler or MinMaxScaler.\n",
      "  % self.max_iter, ConvergenceWarning)\n",
      "/home/hienle/Documents/AUC Studies/6. Sem 6 - Fall 2018/SCI Text Mining and Collective Intelligence/venv/lib/python3.6/site-packages/sklearn/svm/base.py:244: ConvergenceWarning: Solver terminated early (max_iter=1000).  Consider pre-processing your data with StandardScaler or MinMaxScaler.\n",
      "  % self.max_iter, ConvergenceWarning)\n",
      "/home/hienle/Documents/AUC Studies/6. Sem 6 - Fall 2018/SCI Text Mining and Collective Intelligence/venv/lib/python3.6/site-packages/sklearn/svm/base.py:244: ConvergenceWarning: Solver terminated early (max_iter=1).  Consider pre-processing your data with StandardScaler or MinMaxScaler.\n",
      "  % self.max_iter, ConvergenceWarning)\n",
      "/home/hienle/Documents/AUC Studies/6. Sem 6 - Fall 2018/SCI Text Mining and Collective Intelligence/venv/lib/python3.6/site-packages/sklearn/svm/base.py:244: ConvergenceWarning: Solver terminated early (max_iter=1).  Consider pre-processing your data with StandardScaler or MinMaxScaler.\n",
      "  % self.max_iter, ConvergenceWarning)\n",
      "/home/hienle/Documents/AUC Studies/6. Sem 6 - Fall 2018/SCI Text Mining and Collective Intelligence/venv/lib/python3.6/site-packages/sklearn/svm/base.py:244: ConvergenceWarning: Solver terminated early (max_iter=1).  Consider pre-processing your data with StandardScaler or MinMaxScaler.\n",
      "  % self.max_iter, ConvergenceWarning)\n",
      "/home/hienle/Documents/AUC Studies/6. Sem 6 - Fall 2018/SCI Text Mining and Collective Intelligence/venv/lib/python3.6/site-packages/sklearn/svm/base.py:244: ConvergenceWarning: Solver terminated early (max_iter=1).  Consider pre-processing your data with StandardScaler or MinMaxScaler.\n",
      "  % self.max_iter, ConvergenceWarning)\n",
      "/home/hienle/Documents/AUC Studies/6. Sem 6 - Fall 2018/SCI Text Mining and Collective Intelligence/venv/lib/python3.6/site-packages/sklearn/svm/base.py:244: ConvergenceWarning: Solver terminated early (max_iter=1).  Consider pre-processing your data with StandardScaler or MinMaxScaler.\n",
      "  % self.max_iter, ConvergenceWarning)\n",
      "/home/hienle/Documents/AUC Studies/6. Sem 6 - Fall 2018/SCI Text Mining and Collective Intelligence/venv/lib/python3.6/site-packages/sklearn/svm/base.py:244: ConvergenceWarning: Solver terminated early (max_iter=1).  Consider pre-processing your data with StandardScaler or MinMaxScaler.\n",
      "  % self.max_iter, ConvergenceWarning)\n",
      "/home/hienle/Documents/AUC Studies/6. Sem 6 - Fall 2018/SCI Text Mining and Collective Intelligence/venv/lib/python3.6/site-packages/sklearn/svm/base.py:244: ConvergenceWarning: Solver terminated early (max_iter=1).  Consider pre-processing your data with StandardScaler or MinMaxScaler.\n",
      "  % self.max_iter, ConvergenceWarning)\n",
      "/home/hienle/Documents/AUC Studies/6. Sem 6 - Fall 2018/SCI Text Mining and Collective Intelligence/venv/lib/python3.6/site-packages/sklearn/svm/base.py:244: ConvergenceWarning: Solver terminated early (max_iter=1).  Consider pre-processing your data with StandardScaler or MinMaxScaler.\n",
      "  % self.max_iter, ConvergenceWarning)\n",
      "/home/hienle/Documents/AUC Studies/6. Sem 6 - Fall 2018/SCI Text Mining and Collective Intelligence/venv/lib/python3.6/site-packages/sklearn/svm/base.py:244: ConvergenceWarning: Solver terminated early (max_iter=1).  Consider pre-processing your data with StandardScaler or MinMaxScaler.\n",
      "  % self.max_iter, ConvergenceWarning)\n",
      "/home/hienle/Documents/AUC Studies/6. Sem 6 - Fall 2018/SCI Text Mining and Collective Intelligence/venv/lib/python3.6/site-packages/sklearn/svm/base.py:244: ConvergenceWarning: Solver terminated early (max_iter=1).  Consider pre-processing your data with StandardScaler or MinMaxScaler.\n",
      "  % self.max_iter, ConvergenceWarning)\n",
      "/home/hienle/Documents/AUC Studies/6. Sem 6 - Fall 2018/SCI Text Mining and Collective Intelligence/venv/lib/python3.6/site-packages/sklearn/svm/base.py:244: ConvergenceWarning: Solver terminated early (max_iter=10).  Consider pre-processing your data with StandardScaler or MinMaxScaler.\n",
      "  % self.max_iter, ConvergenceWarning)\n",
      "/home/hienle/Documents/AUC Studies/6. Sem 6 - Fall 2018/SCI Text Mining and Collective Intelligence/venv/lib/python3.6/site-packages/sklearn/svm/base.py:244: ConvergenceWarning: Solver terminated early (max_iter=10).  Consider pre-processing your data with StandardScaler or MinMaxScaler.\n",
      "  % self.max_iter, ConvergenceWarning)\n",
      "/home/hienle/Documents/AUC Studies/6. Sem 6 - Fall 2018/SCI Text Mining and Collective Intelligence/venv/lib/python3.6/site-packages/sklearn/svm/base.py:244: ConvergenceWarning: Solver terminated early (max_iter=10).  Consider pre-processing your data with StandardScaler or MinMaxScaler.\n",
      "  % self.max_iter, ConvergenceWarning)\n",
      "/home/hienle/Documents/AUC Studies/6. Sem 6 - Fall 2018/SCI Text Mining and Collective Intelligence/venv/lib/python3.6/site-packages/sklearn/svm/base.py:244: ConvergenceWarning: Solver terminated early (max_iter=10).  Consider pre-processing your data with StandardScaler or MinMaxScaler.\n",
      "  % self.max_iter, ConvergenceWarning)\n",
      "/home/hienle/Documents/AUC Studies/6. Sem 6 - Fall 2018/SCI Text Mining and Collective Intelligence/venv/lib/python3.6/site-packages/sklearn/svm/base.py:244: ConvergenceWarning: Solver terminated early (max_iter=10).  Consider pre-processing your data with StandardScaler or MinMaxScaler.\n",
      "  % self.max_iter, ConvergenceWarning)\n",
      "/home/hienle/Documents/AUC Studies/6. Sem 6 - Fall 2018/SCI Text Mining and Collective Intelligence/venv/lib/python3.6/site-packages/sklearn/svm/base.py:244: ConvergenceWarning: Solver terminated early (max_iter=10).  Consider pre-processing your data with StandardScaler or MinMaxScaler.\n",
      "  % self.max_iter, ConvergenceWarning)\n",
      "/home/hienle/Documents/AUC Studies/6. Sem 6 - Fall 2018/SCI Text Mining and Collective Intelligence/venv/lib/python3.6/site-packages/sklearn/svm/base.py:244: ConvergenceWarning: Solver terminated early (max_iter=10).  Consider pre-processing your data with StandardScaler or MinMaxScaler.\n",
      "  % self.max_iter, ConvergenceWarning)\n",
      "/home/hienle/Documents/AUC Studies/6. Sem 6 - Fall 2018/SCI Text Mining and Collective Intelligence/venv/lib/python3.6/site-packages/sklearn/svm/base.py:244: ConvergenceWarning: Solver terminated early (max_iter=10).  Consider pre-processing your data with StandardScaler or MinMaxScaler.\n",
      "  % self.max_iter, ConvergenceWarning)\n",
      "/home/hienle/Documents/AUC Studies/6. Sem 6 - Fall 2018/SCI Text Mining and Collective Intelligence/venv/lib/python3.6/site-packages/sklearn/svm/base.py:244: ConvergenceWarning: Solver terminated early (max_iter=10).  Consider pre-processing your data with StandardScaler or MinMaxScaler.\n",
      "  % self.max_iter, ConvergenceWarning)\n",
      "/home/hienle/Documents/AUC Studies/6. Sem 6 - Fall 2018/SCI Text Mining and Collective Intelligence/venv/lib/python3.6/site-packages/sklearn/svm/base.py:244: ConvergenceWarning: Solver terminated early (max_iter=10).  Consider pre-processing your data with StandardScaler or MinMaxScaler.\n",
      "  % self.max_iter, ConvergenceWarning)\n",
      "/home/hienle/Documents/AUC Studies/6. Sem 6 - Fall 2018/SCI Text Mining and Collective Intelligence/venv/lib/python3.6/site-packages/sklearn/svm/base.py:244: ConvergenceWarning: Solver terminated early (max_iter=100).  Consider pre-processing your data with StandardScaler or MinMaxScaler.\n",
      "  % self.max_iter, ConvergenceWarning)\n",
      "/home/hienle/Documents/AUC Studies/6. Sem 6 - Fall 2018/SCI Text Mining and Collective Intelligence/venv/lib/python3.6/site-packages/sklearn/svm/base.py:244: ConvergenceWarning: Solver terminated early (max_iter=100).  Consider pre-processing your data with StandardScaler or MinMaxScaler.\n",
      "  % self.max_iter, ConvergenceWarning)\n",
      "/home/hienle/Documents/AUC Studies/6. Sem 6 - Fall 2018/SCI Text Mining and Collective Intelligence/venv/lib/python3.6/site-packages/sklearn/svm/base.py:244: ConvergenceWarning: Solver terminated early (max_iter=100).  Consider pre-processing your data with StandardScaler or MinMaxScaler.\n",
      "  % self.max_iter, ConvergenceWarning)\n",
      "/home/hienle/Documents/AUC Studies/6. Sem 6 - Fall 2018/SCI Text Mining and Collective Intelligence/venv/lib/python3.6/site-packages/sklearn/svm/base.py:244: ConvergenceWarning: Solver terminated early (max_iter=100).  Consider pre-processing your data with StandardScaler or MinMaxScaler.\n",
      "  % self.max_iter, ConvergenceWarning)\n"
     ]
    },
    {
     "name": "stderr",
     "output_type": "stream",
     "text": [
      "/home/hienle/Documents/AUC Studies/6. Sem 6 - Fall 2018/SCI Text Mining and Collective Intelligence/venv/lib/python3.6/site-packages/sklearn/svm/base.py:244: ConvergenceWarning: Solver terminated early (max_iter=100).  Consider pre-processing your data with StandardScaler or MinMaxScaler.\n",
      "  % self.max_iter, ConvergenceWarning)\n",
      "/home/hienle/Documents/AUC Studies/6. Sem 6 - Fall 2018/SCI Text Mining and Collective Intelligence/venv/lib/python3.6/site-packages/sklearn/svm/base.py:244: ConvergenceWarning: Solver terminated early (max_iter=100).  Consider pre-processing your data with StandardScaler or MinMaxScaler.\n",
      "  % self.max_iter, ConvergenceWarning)\n",
      "/home/hienle/Documents/AUC Studies/6. Sem 6 - Fall 2018/SCI Text Mining and Collective Intelligence/venv/lib/python3.6/site-packages/sklearn/svm/base.py:244: ConvergenceWarning: Solver terminated early (max_iter=100).  Consider pre-processing your data with StandardScaler or MinMaxScaler.\n",
      "  % self.max_iter, ConvergenceWarning)\n",
      "/home/hienle/Documents/AUC Studies/6. Sem 6 - Fall 2018/SCI Text Mining and Collective Intelligence/venv/lib/python3.6/site-packages/sklearn/svm/base.py:244: ConvergenceWarning: Solver terminated early (max_iter=100).  Consider pre-processing your data with StandardScaler or MinMaxScaler.\n",
      "  % self.max_iter, ConvergenceWarning)\n",
      "/home/hienle/Documents/AUC Studies/6. Sem 6 - Fall 2018/SCI Text Mining and Collective Intelligence/venv/lib/python3.6/site-packages/sklearn/svm/base.py:244: ConvergenceWarning: Solver terminated early (max_iter=100).  Consider pre-processing your data with StandardScaler or MinMaxScaler.\n",
      "  % self.max_iter, ConvergenceWarning)\n",
      "/home/hienle/Documents/AUC Studies/6. Sem 6 - Fall 2018/SCI Text Mining and Collective Intelligence/venv/lib/python3.6/site-packages/sklearn/svm/base.py:244: ConvergenceWarning: Solver terminated early (max_iter=100).  Consider pre-processing your data with StandardScaler or MinMaxScaler.\n",
      "  % self.max_iter, ConvergenceWarning)\n",
      "/home/hienle/Documents/AUC Studies/6. Sem 6 - Fall 2018/SCI Text Mining and Collective Intelligence/venv/lib/python3.6/site-packages/sklearn/svm/base.py:244: ConvergenceWarning: Solver terminated early (max_iter=1).  Consider pre-processing your data with StandardScaler or MinMaxScaler.\n",
      "  % self.max_iter, ConvergenceWarning)\n",
      "/home/hienle/Documents/AUC Studies/6. Sem 6 - Fall 2018/SCI Text Mining and Collective Intelligence/venv/lib/python3.6/site-packages/sklearn/svm/base.py:244: ConvergenceWarning: Solver terminated early (max_iter=1).  Consider pre-processing your data with StandardScaler or MinMaxScaler.\n",
      "  % self.max_iter, ConvergenceWarning)\n",
      "/home/hienle/Documents/AUC Studies/6. Sem 6 - Fall 2018/SCI Text Mining and Collective Intelligence/venv/lib/python3.6/site-packages/sklearn/svm/base.py:244: ConvergenceWarning: Solver terminated early (max_iter=1).  Consider pre-processing your data with StandardScaler or MinMaxScaler.\n",
      "  % self.max_iter, ConvergenceWarning)\n",
      "/home/hienle/Documents/AUC Studies/6. Sem 6 - Fall 2018/SCI Text Mining and Collective Intelligence/venv/lib/python3.6/site-packages/sklearn/svm/base.py:244: ConvergenceWarning: Solver terminated early (max_iter=1).  Consider pre-processing your data with StandardScaler or MinMaxScaler.\n",
      "  % self.max_iter, ConvergenceWarning)\n",
      "/home/hienle/Documents/AUC Studies/6. Sem 6 - Fall 2018/SCI Text Mining and Collective Intelligence/venv/lib/python3.6/site-packages/sklearn/svm/base.py:244: ConvergenceWarning: Solver terminated early (max_iter=1).  Consider pre-processing your data with StandardScaler or MinMaxScaler.\n",
      "  % self.max_iter, ConvergenceWarning)\n",
      "/home/hienle/Documents/AUC Studies/6. Sem 6 - Fall 2018/SCI Text Mining and Collective Intelligence/venv/lib/python3.6/site-packages/sklearn/svm/base.py:244: ConvergenceWarning: Solver terminated early (max_iter=1).  Consider pre-processing your data with StandardScaler or MinMaxScaler.\n",
      "  % self.max_iter, ConvergenceWarning)\n",
      "/home/hienle/Documents/AUC Studies/6. Sem 6 - Fall 2018/SCI Text Mining and Collective Intelligence/venv/lib/python3.6/site-packages/sklearn/svm/base.py:244: ConvergenceWarning: Solver terminated early (max_iter=1).  Consider pre-processing your data with StandardScaler or MinMaxScaler.\n",
      "  % self.max_iter, ConvergenceWarning)\n",
      "/home/hienle/Documents/AUC Studies/6. Sem 6 - Fall 2018/SCI Text Mining and Collective Intelligence/venv/lib/python3.6/site-packages/sklearn/svm/base.py:244: ConvergenceWarning: Solver terminated early (max_iter=1).  Consider pre-processing your data with StandardScaler or MinMaxScaler.\n",
      "  % self.max_iter, ConvergenceWarning)\n",
      "/home/hienle/Documents/AUC Studies/6. Sem 6 - Fall 2018/SCI Text Mining and Collective Intelligence/venv/lib/python3.6/site-packages/sklearn/svm/base.py:244: ConvergenceWarning: Solver terminated early (max_iter=1).  Consider pre-processing your data with StandardScaler or MinMaxScaler.\n",
      "  % self.max_iter, ConvergenceWarning)\n",
      "/home/hienle/Documents/AUC Studies/6. Sem 6 - Fall 2018/SCI Text Mining and Collective Intelligence/venv/lib/python3.6/site-packages/sklearn/svm/base.py:244: ConvergenceWarning: Solver terminated early (max_iter=1).  Consider pre-processing your data with StandardScaler or MinMaxScaler.\n",
      "  % self.max_iter, ConvergenceWarning)\n",
      "/home/hienle/Documents/AUC Studies/6. Sem 6 - Fall 2018/SCI Text Mining and Collective Intelligence/venv/lib/python3.6/site-packages/sklearn/svm/base.py:244: ConvergenceWarning: Solver terminated early (max_iter=10).  Consider pre-processing your data with StandardScaler or MinMaxScaler.\n",
      "  % self.max_iter, ConvergenceWarning)\n",
      "/home/hienle/Documents/AUC Studies/6. Sem 6 - Fall 2018/SCI Text Mining and Collective Intelligence/venv/lib/python3.6/site-packages/sklearn/svm/base.py:244: ConvergenceWarning: Solver terminated early (max_iter=10).  Consider pre-processing your data with StandardScaler or MinMaxScaler.\n",
      "  % self.max_iter, ConvergenceWarning)\n",
      "/home/hienle/Documents/AUC Studies/6. Sem 6 - Fall 2018/SCI Text Mining and Collective Intelligence/venv/lib/python3.6/site-packages/sklearn/svm/base.py:244: ConvergenceWarning: Solver terminated early (max_iter=10).  Consider pre-processing your data with StandardScaler or MinMaxScaler.\n",
      "  % self.max_iter, ConvergenceWarning)\n",
      "/home/hienle/Documents/AUC Studies/6. Sem 6 - Fall 2018/SCI Text Mining and Collective Intelligence/venv/lib/python3.6/site-packages/sklearn/svm/base.py:244: ConvergenceWarning: Solver terminated early (max_iter=10).  Consider pre-processing your data with StandardScaler or MinMaxScaler.\n",
      "  % self.max_iter, ConvergenceWarning)\n",
      "/home/hienle/Documents/AUC Studies/6. Sem 6 - Fall 2018/SCI Text Mining and Collective Intelligence/venv/lib/python3.6/site-packages/sklearn/svm/base.py:244: ConvergenceWarning: Solver terminated early (max_iter=10).  Consider pre-processing your data with StandardScaler or MinMaxScaler.\n",
      "  % self.max_iter, ConvergenceWarning)\n",
      "/home/hienle/Documents/AUC Studies/6. Sem 6 - Fall 2018/SCI Text Mining and Collective Intelligence/venv/lib/python3.6/site-packages/sklearn/svm/base.py:244: ConvergenceWarning: Solver terminated early (max_iter=10).  Consider pre-processing your data with StandardScaler or MinMaxScaler.\n",
      "  % self.max_iter, ConvergenceWarning)\n",
      "/home/hienle/Documents/AUC Studies/6. Sem 6 - Fall 2018/SCI Text Mining and Collective Intelligence/venv/lib/python3.6/site-packages/sklearn/svm/base.py:244: ConvergenceWarning: Solver terminated early (max_iter=10).  Consider pre-processing your data with StandardScaler or MinMaxScaler.\n",
      "  % self.max_iter, ConvergenceWarning)\n",
      "/home/hienle/Documents/AUC Studies/6. Sem 6 - Fall 2018/SCI Text Mining and Collective Intelligence/venv/lib/python3.6/site-packages/sklearn/svm/base.py:244: ConvergenceWarning: Solver terminated early (max_iter=10).  Consider pre-processing your data with StandardScaler or MinMaxScaler.\n",
      "  % self.max_iter, ConvergenceWarning)\n",
      "/home/hienle/Documents/AUC Studies/6. Sem 6 - Fall 2018/SCI Text Mining and Collective Intelligence/venv/lib/python3.6/site-packages/sklearn/svm/base.py:244: ConvergenceWarning: Solver terminated early (max_iter=10).  Consider pre-processing your data with StandardScaler or MinMaxScaler.\n",
      "  % self.max_iter, ConvergenceWarning)\n",
      "/home/hienle/Documents/AUC Studies/6. Sem 6 - Fall 2018/SCI Text Mining and Collective Intelligence/venv/lib/python3.6/site-packages/sklearn/svm/base.py:244: ConvergenceWarning: Solver terminated early (max_iter=10).  Consider pre-processing your data with StandardScaler or MinMaxScaler.\n",
      "  % self.max_iter, ConvergenceWarning)\n",
      "/home/hienle/Documents/AUC Studies/6. Sem 6 - Fall 2018/SCI Text Mining and Collective Intelligence/venv/lib/python3.6/site-packages/sklearn/svm/base.py:244: ConvergenceWarning: Solver terminated early (max_iter=100).  Consider pre-processing your data with StandardScaler or MinMaxScaler.\n",
      "  % self.max_iter, ConvergenceWarning)\n",
      "/home/hienle/Documents/AUC Studies/6. Sem 6 - Fall 2018/SCI Text Mining and Collective Intelligence/venv/lib/python3.6/site-packages/sklearn/svm/base.py:244: ConvergenceWarning: Solver terminated early (max_iter=100).  Consider pre-processing your data with StandardScaler or MinMaxScaler.\n",
      "  % self.max_iter, ConvergenceWarning)\n"
     ]
    },
    {
     "name": "stderr",
     "output_type": "stream",
     "text": [
      "/home/hienle/Documents/AUC Studies/6. Sem 6 - Fall 2018/SCI Text Mining and Collective Intelligence/venv/lib/python3.6/site-packages/sklearn/svm/base.py:244: ConvergenceWarning: Solver terminated early (max_iter=100).  Consider pre-processing your data with StandardScaler or MinMaxScaler.\n",
      "  % self.max_iter, ConvergenceWarning)\n",
      "/home/hienle/Documents/AUC Studies/6. Sem 6 - Fall 2018/SCI Text Mining and Collective Intelligence/venv/lib/python3.6/site-packages/sklearn/svm/base.py:244: ConvergenceWarning: Solver terminated early (max_iter=100).  Consider pre-processing your data with StandardScaler or MinMaxScaler.\n",
      "  % self.max_iter, ConvergenceWarning)\n",
      "/home/hienle/Documents/AUC Studies/6. Sem 6 - Fall 2018/SCI Text Mining and Collective Intelligence/venv/lib/python3.6/site-packages/sklearn/svm/base.py:244: ConvergenceWarning: Solver terminated early (max_iter=100).  Consider pre-processing your data with StandardScaler or MinMaxScaler.\n",
      "  % self.max_iter, ConvergenceWarning)\n",
      "/home/hienle/Documents/AUC Studies/6. Sem 6 - Fall 2018/SCI Text Mining and Collective Intelligence/venv/lib/python3.6/site-packages/sklearn/svm/base.py:244: ConvergenceWarning: Solver terminated early (max_iter=100).  Consider pre-processing your data with StandardScaler or MinMaxScaler.\n",
      "  % self.max_iter, ConvergenceWarning)\n",
      "/home/hienle/Documents/AUC Studies/6. Sem 6 - Fall 2018/SCI Text Mining and Collective Intelligence/venv/lib/python3.6/site-packages/sklearn/svm/base.py:244: ConvergenceWarning: Solver terminated early (max_iter=100).  Consider pre-processing your data with StandardScaler or MinMaxScaler.\n",
      "  % self.max_iter, ConvergenceWarning)\n",
      "/home/hienle/Documents/AUC Studies/6. Sem 6 - Fall 2018/SCI Text Mining and Collective Intelligence/venv/lib/python3.6/site-packages/sklearn/svm/base.py:244: ConvergenceWarning: Solver terminated early (max_iter=100).  Consider pre-processing your data with StandardScaler or MinMaxScaler.\n",
      "  % self.max_iter, ConvergenceWarning)\n",
      "/home/hienle/Documents/AUC Studies/6. Sem 6 - Fall 2018/SCI Text Mining and Collective Intelligence/venv/lib/python3.6/site-packages/sklearn/svm/base.py:244: ConvergenceWarning: Solver terminated early (max_iter=100).  Consider pre-processing your data with StandardScaler or MinMaxScaler.\n",
      "  % self.max_iter, ConvergenceWarning)\n",
      "/home/hienle/Documents/AUC Studies/6. Sem 6 - Fall 2018/SCI Text Mining and Collective Intelligence/venv/lib/python3.6/site-packages/sklearn/svm/base.py:244: ConvergenceWarning: Solver terminated early (max_iter=100).  Consider pre-processing your data with StandardScaler or MinMaxScaler.\n",
      "  % self.max_iter, ConvergenceWarning)\n",
      "/home/hienle/Documents/AUC Studies/6. Sem 6 - Fall 2018/SCI Text Mining and Collective Intelligence/venv/lib/python3.6/site-packages/sklearn/svm/base.py:244: ConvergenceWarning: Solver terminated early (max_iter=1).  Consider pre-processing your data with StandardScaler or MinMaxScaler.\n",
      "  % self.max_iter, ConvergenceWarning)\n",
      "/home/hienle/Documents/AUC Studies/6. Sem 6 - Fall 2018/SCI Text Mining and Collective Intelligence/venv/lib/python3.6/site-packages/sklearn/svm/base.py:244: ConvergenceWarning: Solver terminated early (max_iter=1).  Consider pre-processing your data with StandardScaler or MinMaxScaler.\n",
      "  % self.max_iter, ConvergenceWarning)\n",
      "/home/hienle/Documents/AUC Studies/6. Sem 6 - Fall 2018/SCI Text Mining and Collective Intelligence/venv/lib/python3.6/site-packages/sklearn/svm/base.py:244: ConvergenceWarning: Solver terminated early (max_iter=1).  Consider pre-processing your data with StandardScaler or MinMaxScaler.\n",
      "  % self.max_iter, ConvergenceWarning)\n",
      "/home/hienle/Documents/AUC Studies/6. Sem 6 - Fall 2018/SCI Text Mining and Collective Intelligence/venv/lib/python3.6/site-packages/sklearn/svm/base.py:244: ConvergenceWarning: Solver terminated early (max_iter=1).  Consider pre-processing your data with StandardScaler or MinMaxScaler.\n",
      "  % self.max_iter, ConvergenceWarning)\n",
      "/home/hienle/Documents/AUC Studies/6. Sem 6 - Fall 2018/SCI Text Mining and Collective Intelligence/venv/lib/python3.6/site-packages/sklearn/svm/base.py:244: ConvergenceWarning: Solver terminated early (max_iter=1).  Consider pre-processing your data with StandardScaler or MinMaxScaler.\n",
      "  % self.max_iter, ConvergenceWarning)\n",
      "/home/hienle/Documents/AUC Studies/6. Sem 6 - Fall 2018/SCI Text Mining and Collective Intelligence/venv/lib/python3.6/site-packages/sklearn/svm/base.py:244: ConvergenceWarning: Solver terminated early (max_iter=1).  Consider pre-processing your data with StandardScaler or MinMaxScaler.\n",
      "  % self.max_iter, ConvergenceWarning)\n",
      "/home/hienle/Documents/AUC Studies/6. Sem 6 - Fall 2018/SCI Text Mining and Collective Intelligence/venv/lib/python3.6/site-packages/sklearn/svm/base.py:244: ConvergenceWarning: Solver terminated early (max_iter=1).  Consider pre-processing your data with StandardScaler or MinMaxScaler.\n",
      "  % self.max_iter, ConvergenceWarning)\n",
      "/home/hienle/Documents/AUC Studies/6. Sem 6 - Fall 2018/SCI Text Mining and Collective Intelligence/venv/lib/python3.6/site-packages/sklearn/svm/base.py:244: ConvergenceWarning: Solver terminated early (max_iter=1).  Consider pre-processing your data with StandardScaler or MinMaxScaler.\n",
      "  % self.max_iter, ConvergenceWarning)\n",
      "/home/hienle/Documents/AUC Studies/6. Sem 6 - Fall 2018/SCI Text Mining and Collective Intelligence/venv/lib/python3.6/site-packages/sklearn/svm/base.py:244: ConvergenceWarning: Solver terminated early (max_iter=1).  Consider pre-processing your data with StandardScaler or MinMaxScaler.\n",
      "  % self.max_iter, ConvergenceWarning)\n",
      "/home/hienle/Documents/AUC Studies/6. Sem 6 - Fall 2018/SCI Text Mining and Collective Intelligence/venv/lib/python3.6/site-packages/sklearn/svm/base.py:244: ConvergenceWarning: Solver terminated early (max_iter=1).  Consider pre-processing your data with StandardScaler or MinMaxScaler.\n",
      "  % self.max_iter, ConvergenceWarning)\n",
      "/home/hienle/Documents/AUC Studies/6. Sem 6 - Fall 2018/SCI Text Mining and Collective Intelligence/venv/lib/python3.6/site-packages/sklearn/svm/base.py:244: ConvergenceWarning: Solver terminated early (max_iter=10).  Consider pre-processing your data with StandardScaler or MinMaxScaler.\n",
      "  % self.max_iter, ConvergenceWarning)\n",
      "/home/hienle/Documents/AUC Studies/6. Sem 6 - Fall 2018/SCI Text Mining and Collective Intelligence/venv/lib/python3.6/site-packages/sklearn/svm/base.py:244: ConvergenceWarning: Solver terminated early (max_iter=10).  Consider pre-processing your data with StandardScaler or MinMaxScaler.\n",
      "  % self.max_iter, ConvergenceWarning)\n",
      "/home/hienle/Documents/AUC Studies/6. Sem 6 - Fall 2018/SCI Text Mining and Collective Intelligence/venv/lib/python3.6/site-packages/sklearn/svm/base.py:244: ConvergenceWarning: Solver terminated early (max_iter=10).  Consider pre-processing your data with StandardScaler or MinMaxScaler.\n",
      "  % self.max_iter, ConvergenceWarning)\n",
      "/home/hienle/Documents/AUC Studies/6. Sem 6 - Fall 2018/SCI Text Mining and Collective Intelligence/venv/lib/python3.6/site-packages/sklearn/svm/base.py:244: ConvergenceWarning: Solver terminated early (max_iter=10).  Consider pre-processing your data with StandardScaler or MinMaxScaler.\n",
      "  % self.max_iter, ConvergenceWarning)\n",
      "/home/hienle/Documents/AUC Studies/6. Sem 6 - Fall 2018/SCI Text Mining and Collective Intelligence/venv/lib/python3.6/site-packages/sklearn/svm/base.py:244: ConvergenceWarning: Solver terminated early (max_iter=10).  Consider pre-processing your data with StandardScaler or MinMaxScaler.\n",
      "  % self.max_iter, ConvergenceWarning)\n",
      "/home/hienle/Documents/AUC Studies/6. Sem 6 - Fall 2018/SCI Text Mining and Collective Intelligence/venv/lib/python3.6/site-packages/sklearn/svm/base.py:244: ConvergenceWarning: Solver terminated early (max_iter=10).  Consider pre-processing your data with StandardScaler or MinMaxScaler.\n",
      "  % self.max_iter, ConvergenceWarning)\n",
      "/home/hienle/Documents/AUC Studies/6. Sem 6 - Fall 2018/SCI Text Mining and Collective Intelligence/venv/lib/python3.6/site-packages/sklearn/svm/base.py:244: ConvergenceWarning: Solver terminated early (max_iter=10).  Consider pre-processing your data with StandardScaler or MinMaxScaler.\n",
      "  % self.max_iter, ConvergenceWarning)\n",
      "/home/hienle/Documents/AUC Studies/6. Sem 6 - Fall 2018/SCI Text Mining and Collective Intelligence/venv/lib/python3.6/site-packages/sklearn/svm/base.py:244: ConvergenceWarning: Solver terminated early (max_iter=10).  Consider pre-processing your data with StandardScaler or MinMaxScaler.\n",
      "  % self.max_iter, ConvergenceWarning)\n",
      "/home/hienle/Documents/AUC Studies/6. Sem 6 - Fall 2018/SCI Text Mining and Collective Intelligence/venv/lib/python3.6/site-packages/sklearn/svm/base.py:244: ConvergenceWarning: Solver terminated early (max_iter=10).  Consider pre-processing your data with StandardScaler or MinMaxScaler.\n",
      "  % self.max_iter, ConvergenceWarning)\n",
      "/home/hienle/Documents/AUC Studies/6. Sem 6 - Fall 2018/SCI Text Mining and Collective Intelligence/venv/lib/python3.6/site-packages/sklearn/svm/base.py:244: ConvergenceWarning: Solver terminated early (max_iter=10).  Consider pre-processing your data with StandardScaler or MinMaxScaler.\n",
      "  % self.max_iter, ConvergenceWarning)\n",
      "/home/hienle/Documents/AUC Studies/6. Sem 6 - Fall 2018/SCI Text Mining and Collective Intelligence/venv/lib/python3.6/site-packages/sklearn/svm/base.py:244: ConvergenceWarning: Solver terminated early (max_iter=100).  Consider pre-processing your data with StandardScaler or MinMaxScaler.\n",
      "  % self.max_iter, ConvergenceWarning)\n"
     ]
    },
    {
     "name": "stderr",
     "output_type": "stream",
     "text": [
      "/home/hienle/Documents/AUC Studies/6. Sem 6 - Fall 2018/SCI Text Mining and Collective Intelligence/venv/lib/python3.6/site-packages/sklearn/svm/base.py:244: ConvergenceWarning: Solver terminated early (max_iter=100).  Consider pre-processing your data with StandardScaler or MinMaxScaler.\n",
      "  % self.max_iter, ConvergenceWarning)\n",
      "/home/hienle/Documents/AUC Studies/6. Sem 6 - Fall 2018/SCI Text Mining and Collective Intelligence/venv/lib/python3.6/site-packages/sklearn/svm/base.py:244: ConvergenceWarning: Solver terminated early (max_iter=100).  Consider pre-processing your data with StandardScaler or MinMaxScaler.\n",
      "  % self.max_iter, ConvergenceWarning)\n",
      "/home/hienle/Documents/AUC Studies/6. Sem 6 - Fall 2018/SCI Text Mining and Collective Intelligence/venv/lib/python3.6/site-packages/sklearn/svm/base.py:244: ConvergenceWarning: Solver terminated early (max_iter=100).  Consider pre-processing your data with StandardScaler or MinMaxScaler.\n",
      "  % self.max_iter, ConvergenceWarning)\n",
      "/home/hienle/Documents/AUC Studies/6. Sem 6 - Fall 2018/SCI Text Mining and Collective Intelligence/venv/lib/python3.6/site-packages/sklearn/svm/base.py:244: ConvergenceWarning: Solver terminated early (max_iter=100).  Consider pre-processing your data with StandardScaler or MinMaxScaler.\n",
      "  % self.max_iter, ConvergenceWarning)\n",
      "/home/hienle/Documents/AUC Studies/6. Sem 6 - Fall 2018/SCI Text Mining and Collective Intelligence/venv/lib/python3.6/site-packages/sklearn/svm/base.py:244: ConvergenceWarning: Solver terminated early (max_iter=100).  Consider pre-processing your data with StandardScaler or MinMaxScaler.\n",
      "  % self.max_iter, ConvergenceWarning)\n",
      "/home/hienle/Documents/AUC Studies/6. Sem 6 - Fall 2018/SCI Text Mining and Collective Intelligence/venv/lib/python3.6/site-packages/sklearn/svm/base.py:244: ConvergenceWarning: Solver terminated early (max_iter=100).  Consider pre-processing your data with StandardScaler or MinMaxScaler.\n",
      "  % self.max_iter, ConvergenceWarning)\n",
      "/home/hienle/Documents/AUC Studies/6. Sem 6 - Fall 2018/SCI Text Mining and Collective Intelligence/venv/lib/python3.6/site-packages/sklearn/svm/base.py:244: ConvergenceWarning: Solver terminated early (max_iter=100).  Consider pre-processing your data with StandardScaler or MinMaxScaler.\n",
      "  % self.max_iter, ConvergenceWarning)\n",
      "/home/hienle/Documents/AUC Studies/6. Sem 6 - Fall 2018/SCI Text Mining and Collective Intelligence/venv/lib/python3.6/site-packages/sklearn/svm/base.py:244: ConvergenceWarning: Solver terminated early (max_iter=100).  Consider pre-processing your data with StandardScaler or MinMaxScaler.\n",
      "  % self.max_iter, ConvergenceWarning)\n",
      "/home/hienle/Documents/AUC Studies/6. Sem 6 - Fall 2018/SCI Text Mining and Collective Intelligence/venv/lib/python3.6/site-packages/sklearn/svm/base.py:244: ConvergenceWarning: Solver terminated early (max_iter=100).  Consider pre-processing your data with StandardScaler or MinMaxScaler.\n",
      "  % self.max_iter, ConvergenceWarning)\n",
      "/home/hienle/Documents/AUC Studies/6. Sem 6 - Fall 2018/SCI Text Mining and Collective Intelligence/venv/lib/python3.6/site-packages/sklearn/svm/base.py:244: ConvergenceWarning: Solver terminated early (max_iter=1).  Consider pre-processing your data with StandardScaler or MinMaxScaler.\n",
      "  % self.max_iter, ConvergenceWarning)\n",
      "/home/hienle/Documents/AUC Studies/6. Sem 6 - Fall 2018/SCI Text Mining and Collective Intelligence/venv/lib/python3.6/site-packages/sklearn/svm/base.py:244: ConvergenceWarning: Solver terminated early (max_iter=1).  Consider pre-processing your data with StandardScaler or MinMaxScaler.\n",
      "  % self.max_iter, ConvergenceWarning)\n",
      "/home/hienle/Documents/AUC Studies/6. Sem 6 - Fall 2018/SCI Text Mining and Collective Intelligence/venv/lib/python3.6/site-packages/sklearn/svm/base.py:244: ConvergenceWarning: Solver terminated early (max_iter=1).  Consider pre-processing your data with StandardScaler or MinMaxScaler.\n",
      "  % self.max_iter, ConvergenceWarning)\n",
      "/home/hienle/Documents/AUC Studies/6. Sem 6 - Fall 2018/SCI Text Mining and Collective Intelligence/venv/lib/python3.6/site-packages/sklearn/svm/base.py:244: ConvergenceWarning: Solver terminated early (max_iter=1).  Consider pre-processing your data with StandardScaler or MinMaxScaler.\n",
      "  % self.max_iter, ConvergenceWarning)\n",
      "/home/hienle/Documents/AUC Studies/6. Sem 6 - Fall 2018/SCI Text Mining and Collective Intelligence/venv/lib/python3.6/site-packages/sklearn/svm/base.py:244: ConvergenceWarning: Solver terminated early (max_iter=1).  Consider pre-processing your data with StandardScaler or MinMaxScaler.\n",
      "  % self.max_iter, ConvergenceWarning)\n",
      "/home/hienle/Documents/AUC Studies/6. Sem 6 - Fall 2018/SCI Text Mining and Collective Intelligence/venv/lib/python3.6/site-packages/sklearn/svm/base.py:244: ConvergenceWarning: Solver terminated early (max_iter=1).  Consider pre-processing your data with StandardScaler or MinMaxScaler.\n",
      "  % self.max_iter, ConvergenceWarning)\n",
      "/home/hienle/Documents/AUC Studies/6. Sem 6 - Fall 2018/SCI Text Mining and Collective Intelligence/venv/lib/python3.6/site-packages/sklearn/svm/base.py:244: ConvergenceWarning: Solver terminated early (max_iter=1).  Consider pre-processing your data with StandardScaler or MinMaxScaler.\n",
      "  % self.max_iter, ConvergenceWarning)\n",
      "/home/hienle/Documents/AUC Studies/6. Sem 6 - Fall 2018/SCI Text Mining and Collective Intelligence/venv/lib/python3.6/site-packages/sklearn/svm/base.py:244: ConvergenceWarning: Solver terminated early (max_iter=1).  Consider pre-processing your data with StandardScaler or MinMaxScaler.\n",
      "  % self.max_iter, ConvergenceWarning)\n",
      "/home/hienle/Documents/AUC Studies/6. Sem 6 - Fall 2018/SCI Text Mining and Collective Intelligence/venv/lib/python3.6/site-packages/sklearn/svm/base.py:244: ConvergenceWarning: Solver terminated early (max_iter=1).  Consider pre-processing your data with StandardScaler or MinMaxScaler.\n",
      "  % self.max_iter, ConvergenceWarning)\n",
      "/home/hienle/Documents/AUC Studies/6. Sem 6 - Fall 2018/SCI Text Mining and Collective Intelligence/venv/lib/python3.6/site-packages/sklearn/svm/base.py:244: ConvergenceWarning: Solver terminated early (max_iter=1).  Consider pre-processing your data with StandardScaler or MinMaxScaler.\n",
      "  % self.max_iter, ConvergenceWarning)\n",
      "/home/hienle/Documents/AUC Studies/6. Sem 6 - Fall 2018/SCI Text Mining and Collective Intelligence/venv/lib/python3.6/site-packages/sklearn/svm/base.py:244: ConvergenceWarning: Solver terminated early (max_iter=10).  Consider pre-processing your data with StandardScaler or MinMaxScaler.\n",
      "  % self.max_iter, ConvergenceWarning)\n",
      "/home/hienle/Documents/AUC Studies/6. Sem 6 - Fall 2018/SCI Text Mining and Collective Intelligence/venv/lib/python3.6/site-packages/sklearn/svm/base.py:244: ConvergenceWarning: Solver terminated early (max_iter=10).  Consider pre-processing your data with StandardScaler or MinMaxScaler.\n",
      "  % self.max_iter, ConvergenceWarning)\n",
      "/home/hienle/Documents/AUC Studies/6. Sem 6 - Fall 2018/SCI Text Mining and Collective Intelligence/venv/lib/python3.6/site-packages/sklearn/svm/base.py:244: ConvergenceWarning: Solver terminated early (max_iter=10).  Consider pre-processing your data with StandardScaler or MinMaxScaler.\n",
      "  % self.max_iter, ConvergenceWarning)\n",
      "/home/hienle/Documents/AUC Studies/6. Sem 6 - Fall 2018/SCI Text Mining and Collective Intelligence/venv/lib/python3.6/site-packages/sklearn/svm/base.py:244: ConvergenceWarning: Solver terminated early (max_iter=10).  Consider pre-processing your data with StandardScaler or MinMaxScaler.\n",
      "  % self.max_iter, ConvergenceWarning)\n",
      "/home/hienle/Documents/AUC Studies/6. Sem 6 - Fall 2018/SCI Text Mining and Collective Intelligence/venv/lib/python3.6/site-packages/sklearn/svm/base.py:244: ConvergenceWarning: Solver terminated early (max_iter=10).  Consider pre-processing your data with StandardScaler or MinMaxScaler.\n",
      "  % self.max_iter, ConvergenceWarning)\n",
      "/home/hienle/Documents/AUC Studies/6. Sem 6 - Fall 2018/SCI Text Mining and Collective Intelligence/venv/lib/python3.6/site-packages/sklearn/svm/base.py:244: ConvergenceWarning: Solver terminated early (max_iter=10).  Consider pre-processing your data with StandardScaler or MinMaxScaler.\n",
      "  % self.max_iter, ConvergenceWarning)\n",
      "/home/hienle/Documents/AUC Studies/6. Sem 6 - Fall 2018/SCI Text Mining and Collective Intelligence/venv/lib/python3.6/site-packages/sklearn/svm/base.py:244: ConvergenceWarning: Solver terminated early (max_iter=10).  Consider pre-processing your data with StandardScaler or MinMaxScaler.\n",
      "  % self.max_iter, ConvergenceWarning)\n",
      "/home/hienle/Documents/AUC Studies/6. Sem 6 - Fall 2018/SCI Text Mining and Collective Intelligence/venv/lib/python3.6/site-packages/sklearn/svm/base.py:244: ConvergenceWarning: Solver terminated early (max_iter=10).  Consider pre-processing your data with StandardScaler or MinMaxScaler.\n",
      "  % self.max_iter, ConvergenceWarning)\n",
      "/home/hienle/Documents/AUC Studies/6. Sem 6 - Fall 2018/SCI Text Mining and Collective Intelligence/venv/lib/python3.6/site-packages/sklearn/svm/base.py:244: ConvergenceWarning: Solver terminated early (max_iter=10).  Consider pre-processing your data with StandardScaler or MinMaxScaler.\n",
      "  % self.max_iter, ConvergenceWarning)\n",
      "/home/hienle/Documents/AUC Studies/6. Sem 6 - Fall 2018/SCI Text Mining and Collective Intelligence/venv/lib/python3.6/site-packages/sklearn/svm/base.py:244: ConvergenceWarning: Solver terminated early (max_iter=10).  Consider pre-processing your data with StandardScaler or MinMaxScaler.\n",
      "  % self.max_iter, ConvergenceWarning)\n",
      "/home/hienle/Documents/AUC Studies/6. Sem 6 - Fall 2018/SCI Text Mining and Collective Intelligence/venv/lib/python3.6/site-packages/sklearn/svm/base.py:244: ConvergenceWarning: Solver terminated early (max_iter=100).  Consider pre-processing your data with StandardScaler or MinMaxScaler.\n",
      "  % self.max_iter, ConvergenceWarning)\n",
      "/home/hienle/Documents/AUC Studies/6. Sem 6 - Fall 2018/SCI Text Mining and Collective Intelligence/venv/lib/python3.6/site-packages/sklearn/svm/base.py:244: ConvergenceWarning: Solver terminated early (max_iter=100).  Consider pre-processing your data with StandardScaler or MinMaxScaler.\n",
      "  % self.max_iter, ConvergenceWarning)\n",
      "/home/hienle/Documents/AUC Studies/6. Sem 6 - Fall 2018/SCI Text Mining and Collective Intelligence/venv/lib/python3.6/site-packages/sklearn/svm/base.py:244: ConvergenceWarning: Solver terminated early (max_iter=100).  Consider pre-processing your data with StandardScaler or MinMaxScaler.\n",
      "  % self.max_iter, ConvergenceWarning)\n",
      "/home/hienle/Documents/AUC Studies/6. Sem 6 - Fall 2018/SCI Text Mining and Collective Intelligence/venv/lib/python3.6/site-packages/sklearn/svm/base.py:244: ConvergenceWarning: Solver terminated early (max_iter=100).  Consider pre-processing your data with StandardScaler or MinMaxScaler.\n",
      "  % self.max_iter, ConvergenceWarning)\n"
     ]
    },
    {
     "name": "stderr",
     "output_type": "stream",
     "text": [
      "/home/hienle/Documents/AUC Studies/6. Sem 6 - Fall 2018/SCI Text Mining and Collective Intelligence/venv/lib/python3.6/site-packages/sklearn/svm/base.py:244: ConvergenceWarning: Solver terminated early (max_iter=100).  Consider pre-processing your data with StandardScaler or MinMaxScaler.\n",
      "  % self.max_iter, ConvergenceWarning)\n",
      "/home/hienle/Documents/AUC Studies/6. Sem 6 - Fall 2018/SCI Text Mining and Collective Intelligence/venv/lib/python3.6/site-packages/sklearn/svm/base.py:244: ConvergenceWarning: Solver terminated early (max_iter=100).  Consider pre-processing your data with StandardScaler or MinMaxScaler.\n",
      "  % self.max_iter, ConvergenceWarning)\n",
      "/home/hienle/Documents/AUC Studies/6. Sem 6 - Fall 2018/SCI Text Mining and Collective Intelligence/venv/lib/python3.6/site-packages/sklearn/svm/base.py:244: ConvergenceWarning: Solver terminated early (max_iter=100).  Consider pre-processing your data with StandardScaler or MinMaxScaler.\n",
      "  % self.max_iter, ConvergenceWarning)\n",
      "/home/hienle/Documents/AUC Studies/6. Sem 6 - Fall 2018/SCI Text Mining and Collective Intelligence/venv/lib/python3.6/site-packages/sklearn/svm/base.py:244: ConvergenceWarning: Solver terminated early (max_iter=100).  Consider pre-processing your data with StandardScaler or MinMaxScaler.\n",
      "  % self.max_iter, ConvergenceWarning)\n",
      "/home/hienle/Documents/AUC Studies/6. Sem 6 - Fall 2018/SCI Text Mining and Collective Intelligence/venv/lib/python3.6/site-packages/sklearn/svm/base.py:244: ConvergenceWarning: Solver terminated early (max_iter=100).  Consider pre-processing your data with StandardScaler or MinMaxScaler.\n",
      "  % self.max_iter, ConvergenceWarning)\n",
      "/home/hienle/Documents/AUC Studies/6. Sem 6 - Fall 2018/SCI Text Mining and Collective Intelligence/venv/lib/python3.6/site-packages/sklearn/svm/base.py:244: ConvergenceWarning: Solver terminated early (max_iter=100).  Consider pre-processing your data with StandardScaler or MinMaxScaler.\n",
      "  % self.max_iter, ConvergenceWarning)\n",
      "/home/hienle/Documents/AUC Studies/6. Sem 6 - Fall 2018/SCI Text Mining and Collective Intelligence/venv/lib/python3.6/site-packages/sklearn/svm/base.py:244: ConvergenceWarning: Solver terminated early (max_iter=1000).  Consider pre-processing your data with StandardScaler or MinMaxScaler.\n",
      "  % self.max_iter, ConvergenceWarning)\n",
      "/home/hienle/Documents/AUC Studies/6. Sem 6 - Fall 2018/SCI Text Mining and Collective Intelligence/venv/lib/python3.6/site-packages/sklearn/svm/base.py:244: ConvergenceWarning: Solver terminated early (max_iter=1000).  Consider pre-processing your data with StandardScaler or MinMaxScaler.\n",
      "  % self.max_iter, ConvergenceWarning)\n",
      "/home/hienle/Documents/AUC Studies/6. Sem 6 - Fall 2018/SCI Text Mining and Collective Intelligence/venv/lib/python3.6/site-packages/sklearn/svm/base.py:244: ConvergenceWarning: Solver terminated early (max_iter=1000).  Consider pre-processing your data with StandardScaler or MinMaxScaler.\n",
      "  % self.max_iter, ConvergenceWarning)\n",
      "/home/hienle/Documents/AUC Studies/6. Sem 6 - Fall 2018/SCI Text Mining and Collective Intelligence/venv/lib/python3.6/site-packages/sklearn/svm/base.py:244: ConvergenceWarning: Solver terminated early (max_iter=1000).  Consider pre-processing your data with StandardScaler or MinMaxScaler.\n",
      "  % self.max_iter, ConvergenceWarning)\n",
      "/home/hienle/Documents/AUC Studies/6. Sem 6 - Fall 2018/SCI Text Mining and Collective Intelligence/venv/lib/python3.6/site-packages/sklearn/svm/base.py:244: ConvergenceWarning: Solver terminated early (max_iter=1000).  Consider pre-processing your data with StandardScaler or MinMaxScaler.\n",
      "  % self.max_iter, ConvergenceWarning)\n",
      "/home/hienle/Documents/AUC Studies/6. Sem 6 - Fall 2018/SCI Text Mining and Collective Intelligence/venv/lib/python3.6/site-packages/sklearn/svm/base.py:244: ConvergenceWarning: Solver terminated early (max_iter=1000).  Consider pre-processing your data with StandardScaler or MinMaxScaler.\n",
      "  % self.max_iter, ConvergenceWarning)\n",
      "/home/hienle/Documents/AUC Studies/6. Sem 6 - Fall 2018/SCI Text Mining and Collective Intelligence/venv/lib/python3.6/site-packages/sklearn/svm/base.py:244: ConvergenceWarning: Solver terminated early (max_iter=1000).  Consider pre-processing your data with StandardScaler or MinMaxScaler.\n",
      "  % self.max_iter, ConvergenceWarning)\n",
      "/home/hienle/Documents/AUC Studies/6. Sem 6 - Fall 2018/SCI Text Mining and Collective Intelligence/venv/lib/python3.6/site-packages/sklearn/svm/base.py:244: ConvergenceWarning: Solver terminated early (max_iter=1000).  Consider pre-processing your data with StandardScaler or MinMaxScaler.\n",
      "  % self.max_iter, ConvergenceWarning)\n",
      "/home/hienle/Documents/AUC Studies/6. Sem 6 - Fall 2018/SCI Text Mining and Collective Intelligence/venv/lib/python3.6/site-packages/sklearn/svm/base.py:244: ConvergenceWarning: Solver terminated early (max_iter=1000).  Consider pre-processing your data with StandardScaler or MinMaxScaler.\n",
      "  % self.max_iter, ConvergenceWarning)\n",
      "/home/hienle/Documents/AUC Studies/6. Sem 6 - Fall 2018/SCI Text Mining and Collective Intelligence/venv/lib/python3.6/site-packages/sklearn/svm/base.py:244: ConvergenceWarning: Solver terminated early (max_iter=1000).  Consider pre-processing your data with StandardScaler or MinMaxScaler.\n",
      "  % self.max_iter, ConvergenceWarning)\n",
      "/home/hienle/Documents/AUC Studies/6. Sem 6 - Fall 2018/SCI Text Mining and Collective Intelligence/venv/lib/python3.6/site-packages/sklearn/svm/base.py:244: ConvergenceWarning: Solver terminated early (max_iter=1).  Consider pre-processing your data with StandardScaler or MinMaxScaler.\n",
      "  % self.max_iter, ConvergenceWarning)\n",
      "/home/hienle/Documents/AUC Studies/6. Sem 6 - Fall 2018/SCI Text Mining and Collective Intelligence/venv/lib/python3.6/site-packages/sklearn/svm/base.py:244: ConvergenceWarning: Solver terminated early (max_iter=1).  Consider pre-processing your data with StandardScaler or MinMaxScaler.\n",
      "  % self.max_iter, ConvergenceWarning)\n",
      "/home/hienle/Documents/AUC Studies/6. Sem 6 - Fall 2018/SCI Text Mining and Collective Intelligence/venv/lib/python3.6/site-packages/sklearn/svm/base.py:244: ConvergenceWarning: Solver terminated early (max_iter=1).  Consider pre-processing your data with StandardScaler or MinMaxScaler.\n",
      "  % self.max_iter, ConvergenceWarning)\n",
      "/home/hienle/Documents/AUC Studies/6. Sem 6 - Fall 2018/SCI Text Mining and Collective Intelligence/venv/lib/python3.6/site-packages/sklearn/svm/base.py:244: ConvergenceWarning: Solver terminated early (max_iter=1).  Consider pre-processing your data with StandardScaler or MinMaxScaler.\n",
      "  % self.max_iter, ConvergenceWarning)\n",
      "/home/hienle/Documents/AUC Studies/6. Sem 6 - Fall 2018/SCI Text Mining and Collective Intelligence/venv/lib/python3.6/site-packages/sklearn/svm/base.py:244: ConvergenceWarning: Solver terminated early (max_iter=1).  Consider pre-processing your data with StandardScaler or MinMaxScaler.\n",
      "  % self.max_iter, ConvergenceWarning)\n",
      "/home/hienle/Documents/AUC Studies/6. Sem 6 - Fall 2018/SCI Text Mining and Collective Intelligence/venv/lib/python3.6/site-packages/sklearn/svm/base.py:244: ConvergenceWarning: Solver terminated early (max_iter=1).  Consider pre-processing your data with StandardScaler or MinMaxScaler.\n",
      "  % self.max_iter, ConvergenceWarning)\n",
      "/home/hienle/Documents/AUC Studies/6. Sem 6 - Fall 2018/SCI Text Mining and Collective Intelligence/venv/lib/python3.6/site-packages/sklearn/svm/base.py:244: ConvergenceWarning: Solver terminated early (max_iter=1).  Consider pre-processing your data with StandardScaler or MinMaxScaler.\n",
      "  % self.max_iter, ConvergenceWarning)\n",
      "/home/hienle/Documents/AUC Studies/6. Sem 6 - Fall 2018/SCI Text Mining and Collective Intelligence/venv/lib/python3.6/site-packages/sklearn/svm/base.py:244: ConvergenceWarning: Solver terminated early (max_iter=1).  Consider pre-processing your data with StandardScaler or MinMaxScaler.\n",
      "  % self.max_iter, ConvergenceWarning)\n",
      "/home/hienle/Documents/AUC Studies/6. Sem 6 - Fall 2018/SCI Text Mining and Collective Intelligence/venv/lib/python3.6/site-packages/sklearn/svm/base.py:244: ConvergenceWarning: Solver terminated early (max_iter=1).  Consider pre-processing your data with StandardScaler or MinMaxScaler.\n",
      "  % self.max_iter, ConvergenceWarning)\n",
      "/home/hienle/Documents/AUC Studies/6. Sem 6 - Fall 2018/SCI Text Mining and Collective Intelligence/venv/lib/python3.6/site-packages/sklearn/svm/base.py:244: ConvergenceWarning: Solver terminated early (max_iter=1).  Consider pre-processing your data with StandardScaler or MinMaxScaler.\n",
      "  % self.max_iter, ConvergenceWarning)\n",
      "/home/hienle/Documents/AUC Studies/6. Sem 6 - Fall 2018/SCI Text Mining and Collective Intelligence/venv/lib/python3.6/site-packages/sklearn/svm/base.py:244: ConvergenceWarning: Solver terminated early (max_iter=10).  Consider pre-processing your data with StandardScaler or MinMaxScaler.\n",
      "  % self.max_iter, ConvergenceWarning)\n",
      "/home/hienle/Documents/AUC Studies/6. Sem 6 - Fall 2018/SCI Text Mining and Collective Intelligence/venv/lib/python3.6/site-packages/sklearn/svm/base.py:244: ConvergenceWarning: Solver terminated early (max_iter=10).  Consider pre-processing your data with StandardScaler or MinMaxScaler.\n",
      "  % self.max_iter, ConvergenceWarning)\n",
      "/home/hienle/Documents/AUC Studies/6. Sem 6 - Fall 2018/SCI Text Mining and Collective Intelligence/venv/lib/python3.6/site-packages/sklearn/svm/base.py:244: ConvergenceWarning: Solver terminated early (max_iter=10).  Consider pre-processing your data with StandardScaler or MinMaxScaler.\n",
      "  % self.max_iter, ConvergenceWarning)\n",
      "/home/hienle/Documents/AUC Studies/6. Sem 6 - Fall 2018/SCI Text Mining and Collective Intelligence/venv/lib/python3.6/site-packages/sklearn/svm/base.py:244: ConvergenceWarning: Solver terminated early (max_iter=10).  Consider pre-processing your data with StandardScaler or MinMaxScaler.\n",
      "  % self.max_iter, ConvergenceWarning)\n",
      "/home/hienle/Documents/AUC Studies/6. Sem 6 - Fall 2018/SCI Text Mining and Collective Intelligence/venv/lib/python3.6/site-packages/sklearn/svm/base.py:244: ConvergenceWarning: Solver terminated early (max_iter=10).  Consider pre-processing your data with StandardScaler or MinMaxScaler.\n",
      "  % self.max_iter, ConvergenceWarning)\n",
      "/home/hienle/Documents/AUC Studies/6. Sem 6 - Fall 2018/SCI Text Mining and Collective Intelligence/venv/lib/python3.6/site-packages/sklearn/svm/base.py:244: ConvergenceWarning: Solver terminated early (max_iter=10).  Consider pre-processing your data with StandardScaler or MinMaxScaler.\n",
      "  % self.max_iter, ConvergenceWarning)\n",
      "/home/hienle/Documents/AUC Studies/6. Sem 6 - Fall 2018/SCI Text Mining and Collective Intelligence/venv/lib/python3.6/site-packages/sklearn/svm/base.py:244: ConvergenceWarning: Solver terminated early (max_iter=10).  Consider pre-processing your data with StandardScaler or MinMaxScaler.\n",
      "  % self.max_iter, ConvergenceWarning)\n",
      "/home/hienle/Documents/AUC Studies/6. Sem 6 - Fall 2018/SCI Text Mining and Collective Intelligence/venv/lib/python3.6/site-packages/sklearn/svm/base.py:244: ConvergenceWarning: Solver terminated early (max_iter=10).  Consider pre-processing your data with StandardScaler or MinMaxScaler.\n",
      "  % self.max_iter, ConvergenceWarning)\n",
      "/home/hienle/Documents/AUC Studies/6. Sem 6 - Fall 2018/SCI Text Mining and Collective Intelligence/venv/lib/python3.6/site-packages/sklearn/svm/base.py:244: ConvergenceWarning: Solver terminated early (max_iter=10).  Consider pre-processing your data with StandardScaler or MinMaxScaler.\n",
      "  % self.max_iter, ConvergenceWarning)\n",
      "/home/hienle/Documents/AUC Studies/6. Sem 6 - Fall 2018/SCI Text Mining and Collective Intelligence/venv/lib/python3.6/site-packages/sklearn/svm/base.py:244: ConvergenceWarning: Solver terminated early (max_iter=10).  Consider pre-processing your data with StandardScaler or MinMaxScaler.\n",
      "  % self.max_iter, ConvergenceWarning)\n",
      "/home/hienle/Documents/AUC Studies/6. Sem 6 - Fall 2018/SCI Text Mining and Collective Intelligence/venv/lib/python3.6/site-packages/sklearn/svm/base.py:244: ConvergenceWarning: Solver terminated early (max_iter=100).  Consider pre-processing your data with StandardScaler or MinMaxScaler.\n",
      "  % self.max_iter, ConvergenceWarning)\n",
      "/home/hienle/Documents/AUC Studies/6. Sem 6 - Fall 2018/SCI Text Mining and Collective Intelligence/venv/lib/python3.6/site-packages/sklearn/svm/base.py:244: ConvergenceWarning: Solver terminated early (max_iter=100).  Consider pre-processing your data with StandardScaler or MinMaxScaler.\n",
      "  % self.max_iter, ConvergenceWarning)\n",
      "/home/hienle/Documents/AUC Studies/6. Sem 6 - Fall 2018/SCI Text Mining and Collective Intelligence/venv/lib/python3.6/site-packages/sklearn/svm/base.py:244: ConvergenceWarning: Solver terminated early (max_iter=100).  Consider pre-processing your data with StandardScaler or MinMaxScaler.\n",
      "  % self.max_iter, ConvergenceWarning)\n"
     ]
    },
    {
     "name": "stderr",
     "output_type": "stream",
     "text": [
      "/home/hienle/Documents/AUC Studies/6. Sem 6 - Fall 2018/SCI Text Mining and Collective Intelligence/venv/lib/python3.6/site-packages/sklearn/svm/base.py:244: ConvergenceWarning: Solver terminated early (max_iter=100).  Consider pre-processing your data with StandardScaler or MinMaxScaler.\n",
      "  % self.max_iter, ConvergenceWarning)\n",
      "/home/hienle/Documents/AUC Studies/6. Sem 6 - Fall 2018/SCI Text Mining and Collective Intelligence/venv/lib/python3.6/site-packages/sklearn/svm/base.py:244: ConvergenceWarning: Solver terminated early (max_iter=100).  Consider pre-processing your data with StandardScaler or MinMaxScaler.\n",
      "  % self.max_iter, ConvergenceWarning)\n",
      "/home/hienle/Documents/AUC Studies/6. Sem 6 - Fall 2018/SCI Text Mining and Collective Intelligence/venv/lib/python3.6/site-packages/sklearn/svm/base.py:244: ConvergenceWarning: Solver terminated early (max_iter=100).  Consider pre-processing your data with StandardScaler or MinMaxScaler.\n",
      "  % self.max_iter, ConvergenceWarning)\n",
      "/home/hienle/Documents/AUC Studies/6. Sem 6 - Fall 2018/SCI Text Mining and Collective Intelligence/venv/lib/python3.6/site-packages/sklearn/svm/base.py:244: ConvergenceWarning: Solver terminated early (max_iter=100).  Consider pre-processing your data with StandardScaler or MinMaxScaler.\n",
      "  % self.max_iter, ConvergenceWarning)\n",
      "/home/hienle/Documents/AUC Studies/6. Sem 6 - Fall 2018/SCI Text Mining and Collective Intelligence/venv/lib/python3.6/site-packages/sklearn/svm/base.py:244: ConvergenceWarning: Solver terminated early (max_iter=100).  Consider pre-processing your data with StandardScaler or MinMaxScaler.\n",
      "  % self.max_iter, ConvergenceWarning)\n",
      "/home/hienle/Documents/AUC Studies/6. Sem 6 - Fall 2018/SCI Text Mining and Collective Intelligence/venv/lib/python3.6/site-packages/sklearn/svm/base.py:244: ConvergenceWarning: Solver terminated early (max_iter=100).  Consider pre-processing your data with StandardScaler or MinMaxScaler.\n",
      "  % self.max_iter, ConvergenceWarning)\n",
      "/home/hienle/Documents/AUC Studies/6. Sem 6 - Fall 2018/SCI Text Mining and Collective Intelligence/venv/lib/python3.6/site-packages/sklearn/svm/base.py:244: ConvergenceWarning: Solver terminated early (max_iter=100).  Consider pre-processing your data with StandardScaler or MinMaxScaler.\n",
      "  % self.max_iter, ConvergenceWarning)\n",
      "/home/hienle/Documents/AUC Studies/6. Sem 6 - Fall 2018/SCI Text Mining and Collective Intelligence/venv/lib/python3.6/site-packages/sklearn/svm/base.py:244: ConvergenceWarning: Solver terminated early (max_iter=1).  Consider pre-processing your data with StandardScaler or MinMaxScaler.\n",
      "  % self.max_iter, ConvergenceWarning)\n",
      "/home/hienle/Documents/AUC Studies/6. Sem 6 - Fall 2018/SCI Text Mining and Collective Intelligence/venv/lib/python3.6/site-packages/sklearn/svm/base.py:244: ConvergenceWarning: Solver terminated early (max_iter=1).  Consider pre-processing your data with StandardScaler or MinMaxScaler.\n",
      "  % self.max_iter, ConvergenceWarning)\n",
      "/home/hienle/Documents/AUC Studies/6. Sem 6 - Fall 2018/SCI Text Mining and Collective Intelligence/venv/lib/python3.6/site-packages/sklearn/svm/base.py:244: ConvergenceWarning: Solver terminated early (max_iter=1).  Consider pre-processing your data with StandardScaler or MinMaxScaler.\n",
      "  % self.max_iter, ConvergenceWarning)\n",
      "/home/hienle/Documents/AUC Studies/6. Sem 6 - Fall 2018/SCI Text Mining and Collective Intelligence/venv/lib/python3.6/site-packages/sklearn/svm/base.py:244: ConvergenceWarning: Solver terminated early (max_iter=1).  Consider pre-processing your data with StandardScaler or MinMaxScaler.\n",
      "  % self.max_iter, ConvergenceWarning)\n",
      "/home/hienle/Documents/AUC Studies/6. Sem 6 - Fall 2018/SCI Text Mining and Collective Intelligence/venv/lib/python3.6/site-packages/sklearn/svm/base.py:244: ConvergenceWarning: Solver terminated early (max_iter=1).  Consider pre-processing your data with StandardScaler or MinMaxScaler.\n",
      "  % self.max_iter, ConvergenceWarning)\n",
      "/home/hienle/Documents/AUC Studies/6. Sem 6 - Fall 2018/SCI Text Mining and Collective Intelligence/venv/lib/python3.6/site-packages/sklearn/svm/base.py:244: ConvergenceWarning: Solver terminated early (max_iter=1).  Consider pre-processing your data with StandardScaler or MinMaxScaler.\n",
      "  % self.max_iter, ConvergenceWarning)\n",
      "/home/hienle/Documents/AUC Studies/6. Sem 6 - Fall 2018/SCI Text Mining and Collective Intelligence/venv/lib/python3.6/site-packages/sklearn/svm/base.py:244: ConvergenceWarning: Solver terminated early (max_iter=1).  Consider pre-processing your data with StandardScaler or MinMaxScaler.\n",
      "  % self.max_iter, ConvergenceWarning)\n",
      "/home/hienle/Documents/AUC Studies/6. Sem 6 - Fall 2018/SCI Text Mining and Collective Intelligence/venv/lib/python3.6/site-packages/sklearn/svm/base.py:244: ConvergenceWarning: Solver terminated early (max_iter=1).  Consider pre-processing your data with StandardScaler or MinMaxScaler.\n",
      "  % self.max_iter, ConvergenceWarning)\n",
      "/home/hienle/Documents/AUC Studies/6. Sem 6 - Fall 2018/SCI Text Mining and Collective Intelligence/venv/lib/python3.6/site-packages/sklearn/svm/base.py:244: ConvergenceWarning: Solver terminated early (max_iter=1).  Consider pre-processing your data with StandardScaler or MinMaxScaler.\n",
      "  % self.max_iter, ConvergenceWarning)\n",
      "/home/hienle/Documents/AUC Studies/6. Sem 6 - Fall 2018/SCI Text Mining and Collective Intelligence/venv/lib/python3.6/site-packages/sklearn/svm/base.py:244: ConvergenceWarning: Solver terminated early (max_iter=1).  Consider pre-processing your data with StandardScaler or MinMaxScaler.\n",
      "  % self.max_iter, ConvergenceWarning)\n",
      "/home/hienle/Documents/AUC Studies/6. Sem 6 - Fall 2018/SCI Text Mining and Collective Intelligence/venv/lib/python3.6/site-packages/sklearn/svm/base.py:244: ConvergenceWarning: Solver terminated early (max_iter=10).  Consider pre-processing your data with StandardScaler or MinMaxScaler.\n",
      "  % self.max_iter, ConvergenceWarning)\n",
      "/home/hienle/Documents/AUC Studies/6. Sem 6 - Fall 2018/SCI Text Mining and Collective Intelligence/venv/lib/python3.6/site-packages/sklearn/svm/base.py:244: ConvergenceWarning: Solver terminated early (max_iter=10).  Consider pre-processing your data with StandardScaler or MinMaxScaler.\n",
      "  % self.max_iter, ConvergenceWarning)\n",
      "/home/hienle/Documents/AUC Studies/6. Sem 6 - Fall 2018/SCI Text Mining and Collective Intelligence/venv/lib/python3.6/site-packages/sklearn/svm/base.py:244: ConvergenceWarning: Solver terminated early (max_iter=10).  Consider pre-processing your data with StandardScaler or MinMaxScaler.\n",
      "  % self.max_iter, ConvergenceWarning)\n",
      "/home/hienle/Documents/AUC Studies/6. Sem 6 - Fall 2018/SCI Text Mining and Collective Intelligence/venv/lib/python3.6/site-packages/sklearn/svm/base.py:244: ConvergenceWarning: Solver terminated early (max_iter=10).  Consider pre-processing your data with StandardScaler or MinMaxScaler.\n",
      "  % self.max_iter, ConvergenceWarning)\n",
      "/home/hienle/Documents/AUC Studies/6. Sem 6 - Fall 2018/SCI Text Mining and Collective Intelligence/venv/lib/python3.6/site-packages/sklearn/svm/base.py:244: ConvergenceWarning: Solver terminated early (max_iter=10).  Consider pre-processing your data with StandardScaler or MinMaxScaler.\n",
      "  % self.max_iter, ConvergenceWarning)\n",
      "/home/hienle/Documents/AUC Studies/6. Sem 6 - Fall 2018/SCI Text Mining and Collective Intelligence/venv/lib/python3.6/site-packages/sklearn/svm/base.py:244: ConvergenceWarning: Solver terminated early (max_iter=10).  Consider pre-processing your data with StandardScaler or MinMaxScaler.\n",
      "  % self.max_iter, ConvergenceWarning)\n",
      "/home/hienle/Documents/AUC Studies/6. Sem 6 - Fall 2018/SCI Text Mining and Collective Intelligence/venv/lib/python3.6/site-packages/sklearn/svm/base.py:244: ConvergenceWarning: Solver terminated early (max_iter=10).  Consider pre-processing your data with StandardScaler or MinMaxScaler.\n",
      "  % self.max_iter, ConvergenceWarning)\n",
      "/home/hienle/Documents/AUC Studies/6. Sem 6 - Fall 2018/SCI Text Mining and Collective Intelligence/venv/lib/python3.6/site-packages/sklearn/svm/base.py:244: ConvergenceWarning: Solver terminated early (max_iter=10).  Consider pre-processing your data with StandardScaler or MinMaxScaler.\n",
      "  % self.max_iter, ConvergenceWarning)\n",
      "/home/hienle/Documents/AUC Studies/6. Sem 6 - Fall 2018/SCI Text Mining and Collective Intelligence/venv/lib/python3.6/site-packages/sklearn/svm/base.py:244: ConvergenceWarning: Solver terminated early (max_iter=10).  Consider pre-processing your data with StandardScaler or MinMaxScaler.\n",
      "  % self.max_iter, ConvergenceWarning)\n",
      "/home/hienle/Documents/AUC Studies/6. Sem 6 - Fall 2018/SCI Text Mining and Collective Intelligence/venv/lib/python3.6/site-packages/sklearn/svm/base.py:244: ConvergenceWarning: Solver terminated early (max_iter=10).  Consider pre-processing your data with StandardScaler or MinMaxScaler.\n",
      "  % self.max_iter, ConvergenceWarning)\n",
      "/home/hienle/Documents/AUC Studies/6. Sem 6 - Fall 2018/SCI Text Mining and Collective Intelligence/venv/lib/python3.6/site-packages/sklearn/svm/base.py:244: ConvergenceWarning: Solver terminated early (max_iter=100).  Consider pre-processing your data with StandardScaler or MinMaxScaler.\n",
      "  % self.max_iter, ConvergenceWarning)\n"
     ]
    },
    {
     "name": "stderr",
     "output_type": "stream",
     "text": [
      "/home/hienle/Documents/AUC Studies/6. Sem 6 - Fall 2018/SCI Text Mining and Collective Intelligence/venv/lib/python3.6/site-packages/sklearn/svm/base.py:244: ConvergenceWarning: Solver terminated early (max_iter=100).  Consider pre-processing your data with StandardScaler or MinMaxScaler.\n",
      "  % self.max_iter, ConvergenceWarning)\n",
      "/home/hienle/Documents/AUC Studies/6. Sem 6 - Fall 2018/SCI Text Mining and Collective Intelligence/venv/lib/python3.6/site-packages/sklearn/svm/base.py:244: ConvergenceWarning: Solver terminated early (max_iter=100).  Consider pre-processing your data with StandardScaler or MinMaxScaler.\n",
      "  % self.max_iter, ConvergenceWarning)\n",
      "/home/hienle/Documents/AUC Studies/6. Sem 6 - Fall 2018/SCI Text Mining and Collective Intelligence/venv/lib/python3.6/site-packages/sklearn/svm/base.py:244: ConvergenceWarning: Solver terminated early (max_iter=100).  Consider pre-processing your data with StandardScaler or MinMaxScaler.\n",
      "  % self.max_iter, ConvergenceWarning)\n",
      "/home/hienle/Documents/AUC Studies/6. Sem 6 - Fall 2018/SCI Text Mining and Collective Intelligence/venv/lib/python3.6/site-packages/sklearn/svm/base.py:244: ConvergenceWarning: Solver terminated early (max_iter=100).  Consider pre-processing your data with StandardScaler or MinMaxScaler.\n",
      "  % self.max_iter, ConvergenceWarning)\n",
      "/home/hienle/Documents/AUC Studies/6. Sem 6 - Fall 2018/SCI Text Mining and Collective Intelligence/venv/lib/python3.6/site-packages/sklearn/svm/base.py:244: ConvergenceWarning: Solver terminated early (max_iter=100).  Consider pre-processing your data with StandardScaler or MinMaxScaler.\n",
      "  % self.max_iter, ConvergenceWarning)\n",
      "/home/hienle/Documents/AUC Studies/6. Sem 6 - Fall 2018/SCI Text Mining and Collective Intelligence/venv/lib/python3.6/site-packages/sklearn/svm/base.py:244: ConvergenceWarning: Solver terminated early (max_iter=100).  Consider pre-processing your data with StandardScaler or MinMaxScaler.\n",
      "  % self.max_iter, ConvergenceWarning)\n",
      "/home/hienle/Documents/AUC Studies/6. Sem 6 - Fall 2018/SCI Text Mining and Collective Intelligence/venv/lib/python3.6/site-packages/sklearn/svm/base.py:244: ConvergenceWarning: Solver terminated early (max_iter=100).  Consider pre-processing your data with StandardScaler or MinMaxScaler.\n",
      "  % self.max_iter, ConvergenceWarning)\n",
      "/home/hienle/Documents/AUC Studies/6. Sem 6 - Fall 2018/SCI Text Mining and Collective Intelligence/venv/lib/python3.6/site-packages/sklearn/svm/base.py:244: ConvergenceWarning: Solver terminated early (max_iter=100).  Consider pre-processing your data with StandardScaler or MinMaxScaler.\n",
      "  % self.max_iter, ConvergenceWarning)\n",
      "/home/hienle/Documents/AUC Studies/6. Sem 6 - Fall 2018/SCI Text Mining and Collective Intelligence/venv/lib/python3.6/site-packages/sklearn/svm/base.py:244: ConvergenceWarning: Solver terminated early (max_iter=100).  Consider pre-processing your data with StandardScaler or MinMaxScaler.\n",
      "  % self.max_iter, ConvergenceWarning)\n",
      "/home/hienle/Documents/AUC Studies/6. Sem 6 - Fall 2018/SCI Text Mining and Collective Intelligence/venv/lib/python3.6/site-packages/sklearn/svm/base.py:244: ConvergenceWarning: Solver terminated early (max_iter=1000).  Consider pre-processing your data with StandardScaler or MinMaxScaler.\n",
      "  % self.max_iter, ConvergenceWarning)\n",
      "/home/hienle/Documents/AUC Studies/6. Sem 6 - Fall 2018/SCI Text Mining and Collective Intelligence/venv/lib/python3.6/site-packages/sklearn/svm/base.py:244: ConvergenceWarning: Solver terminated early (max_iter=1000).  Consider pre-processing your data with StandardScaler or MinMaxScaler.\n",
      "  % self.max_iter, ConvergenceWarning)\n",
      "/home/hienle/Documents/AUC Studies/6. Sem 6 - Fall 2018/SCI Text Mining and Collective Intelligence/venv/lib/python3.6/site-packages/sklearn/svm/base.py:244: ConvergenceWarning: Solver terminated early (max_iter=1000).  Consider pre-processing your data with StandardScaler or MinMaxScaler.\n",
      "  % self.max_iter, ConvergenceWarning)\n",
      "/home/hienle/Documents/AUC Studies/6. Sem 6 - Fall 2018/SCI Text Mining and Collective Intelligence/venv/lib/python3.6/site-packages/sklearn/svm/base.py:244: ConvergenceWarning: Solver terminated early (max_iter=1000).  Consider pre-processing your data with StandardScaler or MinMaxScaler.\n",
      "  % self.max_iter, ConvergenceWarning)\n",
      "/home/hienle/Documents/AUC Studies/6. Sem 6 - Fall 2018/SCI Text Mining and Collective Intelligence/venv/lib/python3.6/site-packages/sklearn/svm/base.py:244: ConvergenceWarning: Solver terminated early (max_iter=1000).  Consider pre-processing your data with StandardScaler or MinMaxScaler.\n",
      "  % self.max_iter, ConvergenceWarning)\n",
      "/home/hienle/Documents/AUC Studies/6. Sem 6 - Fall 2018/SCI Text Mining and Collective Intelligence/venv/lib/python3.6/site-packages/sklearn/svm/base.py:244: ConvergenceWarning: Solver terminated early (max_iter=1000).  Consider pre-processing your data with StandardScaler or MinMaxScaler.\n",
      "  % self.max_iter, ConvergenceWarning)\n",
      "/home/hienle/Documents/AUC Studies/6. Sem 6 - Fall 2018/SCI Text Mining and Collective Intelligence/venv/lib/python3.6/site-packages/sklearn/svm/base.py:244: ConvergenceWarning: Solver terminated early (max_iter=1000).  Consider pre-processing your data with StandardScaler or MinMaxScaler.\n",
      "  % self.max_iter, ConvergenceWarning)\n",
      "/home/hienle/Documents/AUC Studies/6. Sem 6 - Fall 2018/SCI Text Mining and Collective Intelligence/venv/lib/python3.6/site-packages/sklearn/svm/base.py:244: ConvergenceWarning: Solver terminated early (max_iter=1).  Consider pre-processing your data with StandardScaler or MinMaxScaler.\n",
      "  % self.max_iter, ConvergenceWarning)\n",
      "/home/hienle/Documents/AUC Studies/6. Sem 6 - Fall 2018/SCI Text Mining and Collective Intelligence/venv/lib/python3.6/site-packages/sklearn/svm/base.py:244: ConvergenceWarning: Solver terminated early (max_iter=1).  Consider pre-processing your data with StandardScaler or MinMaxScaler.\n",
      "  % self.max_iter, ConvergenceWarning)\n",
      "/home/hienle/Documents/AUC Studies/6. Sem 6 - Fall 2018/SCI Text Mining and Collective Intelligence/venv/lib/python3.6/site-packages/sklearn/svm/base.py:244: ConvergenceWarning: Solver terminated early (max_iter=1).  Consider pre-processing your data with StandardScaler or MinMaxScaler.\n",
      "  % self.max_iter, ConvergenceWarning)\n",
      "/home/hienle/Documents/AUC Studies/6. Sem 6 - Fall 2018/SCI Text Mining and Collective Intelligence/venv/lib/python3.6/site-packages/sklearn/svm/base.py:244: ConvergenceWarning: Solver terminated early (max_iter=1).  Consider pre-processing your data with StandardScaler or MinMaxScaler.\n",
      "  % self.max_iter, ConvergenceWarning)\n",
      "/home/hienle/Documents/AUC Studies/6. Sem 6 - Fall 2018/SCI Text Mining and Collective Intelligence/venv/lib/python3.6/site-packages/sklearn/svm/base.py:244: ConvergenceWarning: Solver terminated early (max_iter=1).  Consider pre-processing your data with StandardScaler or MinMaxScaler.\n",
      "  % self.max_iter, ConvergenceWarning)\n",
      "/home/hienle/Documents/AUC Studies/6. Sem 6 - Fall 2018/SCI Text Mining and Collective Intelligence/venv/lib/python3.6/site-packages/sklearn/svm/base.py:244: ConvergenceWarning: Solver terminated early (max_iter=1).  Consider pre-processing your data with StandardScaler or MinMaxScaler.\n",
      "  % self.max_iter, ConvergenceWarning)\n",
      "/home/hienle/Documents/AUC Studies/6. Sem 6 - Fall 2018/SCI Text Mining and Collective Intelligence/venv/lib/python3.6/site-packages/sklearn/svm/base.py:244: ConvergenceWarning: Solver terminated early (max_iter=1).  Consider pre-processing your data with StandardScaler or MinMaxScaler.\n",
      "  % self.max_iter, ConvergenceWarning)\n",
      "/home/hienle/Documents/AUC Studies/6. Sem 6 - Fall 2018/SCI Text Mining and Collective Intelligence/venv/lib/python3.6/site-packages/sklearn/svm/base.py:244: ConvergenceWarning: Solver terminated early (max_iter=1).  Consider pre-processing your data with StandardScaler or MinMaxScaler.\n",
      "  % self.max_iter, ConvergenceWarning)\n",
      "/home/hienle/Documents/AUC Studies/6. Sem 6 - Fall 2018/SCI Text Mining and Collective Intelligence/venv/lib/python3.6/site-packages/sklearn/svm/base.py:244: ConvergenceWarning: Solver terminated early (max_iter=1).  Consider pre-processing your data with StandardScaler or MinMaxScaler.\n",
      "  % self.max_iter, ConvergenceWarning)\n",
      "/home/hienle/Documents/AUC Studies/6. Sem 6 - Fall 2018/SCI Text Mining and Collective Intelligence/venv/lib/python3.6/site-packages/sklearn/svm/base.py:244: ConvergenceWarning: Solver terminated early (max_iter=1).  Consider pre-processing your data with StandardScaler or MinMaxScaler.\n",
      "  % self.max_iter, ConvergenceWarning)\n",
      "/home/hienle/Documents/AUC Studies/6. Sem 6 - Fall 2018/SCI Text Mining and Collective Intelligence/venv/lib/python3.6/site-packages/sklearn/svm/base.py:244: ConvergenceWarning: Solver terminated early (max_iter=10).  Consider pre-processing your data with StandardScaler or MinMaxScaler.\n",
      "  % self.max_iter, ConvergenceWarning)\n",
      "/home/hienle/Documents/AUC Studies/6. Sem 6 - Fall 2018/SCI Text Mining and Collective Intelligence/venv/lib/python3.6/site-packages/sklearn/svm/base.py:244: ConvergenceWarning: Solver terminated early (max_iter=10).  Consider pre-processing your data with StandardScaler or MinMaxScaler.\n",
      "  % self.max_iter, ConvergenceWarning)\n",
      "/home/hienle/Documents/AUC Studies/6. Sem 6 - Fall 2018/SCI Text Mining and Collective Intelligence/venv/lib/python3.6/site-packages/sklearn/svm/base.py:244: ConvergenceWarning: Solver terminated early (max_iter=10).  Consider pre-processing your data with StandardScaler or MinMaxScaler.\n",
      "  % self.max_iter, ConvergenceWarning)\n",
      "/home/hienle/Documents/AUC Studies/6. Sem 6 - Fall 2018/SCI Text Mining and Collective Intelligence/venv/lib/python3.6/site-packages/sklearn/svm/base.py:244: ConvergenceWarning: Solver terminated early (max_iter=10).  Consider pre-processing your data with StandardScaler or MinMaxScaler.\n",
      "  % self.max_iter, ConvergenceWarning)\n",
      "/home/hienle/Documents/AUC Studies/6. Sem 6 - Fall 2018/SCI Text Mining and Collective Intelligence/venv/lib/python3.6/site-packages/sklearn/svm/base.py:244: ConvergenceWarning: Solver terminated early (max_iter=10).  Consider pre-processing your data with StandardScaler or MinMaxScaler.\n",
      "  % self.max_iter, ConvergenceWarning)\n",
      "/home/hienle/Documents/AUC Studies/6. Sem 6 - Fall 2018/SCI Text Mining and Collective Intelligence/venv/lib/python3.6/site-packages/sklearn/svm/base.py:244: ConvergenceWarning: Solver terminated early (max_iter=10).  Consider pre-processing your data with StandardScaler or MinMaxScaler.\n",
      "  % self.max_iter, ConvergenceWarning)\n",
      "/home/hienle/Documents/AUC Studies/6. Sem 6 - Fall 2018/SCI Text Mining and Collective Intelligence/venv/lib/python3.6/site-packages/sklearn/svm/base.py:244: ConvergenceWarning: Solver terminated early (max_iter=10).  Consider pre-processing your data with StandardScaler or MinMaxScaler.\n",
      "  % self.max_iter, ConvergenceWarning)\n",
      "/home/hienle/Documents/AUC Studies/6. Sem 6 - Fall 2018/SCI Text Mining and Collective Intelligence/venv/lib/python3.6/site-packages/sklearn/svm/base.py:244: ConvergenceWarning: Solver terminated early (max_iter=10).  Consider pre-processing your data with StandardScaler or MinMaxScaler.\n",
      "  % self.max_iter, ConvergenceWarning)\n",
      "/home/hienle/Documents/AUC Studies/6. Sem 6 - Fall 2018/SCI Text Mining and Collective Intelligence/venv/lib/python3.6/site-packages/sklearn/svm/base.py:244: ConvergenceWarning: Solver terminated early (max_iter=10).  Consider pre-processing your data with StandardScaler or MinMaxScaler.\n",
      "  % self.max_iter, ConvergenceWarning)\n",
      "/home/hienle/Documents/AUC Studies/6. Sem 6 - Fall 2018/SCI Text Mining and Collective Intelligence/venv/lib/python3.6/site-packages/sklearn/svm/base.py:244: ConvergenceWarning: Solver terminated early (max_iter=10).  Consider pre-processing your data with StandardScaler or MinMaxScaler.\n",
      "  % self.max_iter, ConvergenceWarning)\n",
      "/home/hienle/Documents/AUC Studies/6. Sem 6 - Fall 2018/SCI Text Mining and Collective Intelligence/venv/lib/python3.6/site-packages/sklearn/svm/base.py:244: ConvergenceWarning: Solver terminated early (max_iter=100).  Consider pre-processing your data with StandardScaler or MinMaxScaler.\n",
      "  % self.max_iter, ConvergenceWarning)\n",
      "/home/hienle/Documents/AUC Studies/6. Sem 6 - Fall 2018/SCI Text Mining and Collective Intelligence/venv/lib/python3.6/site-packages/sklearn/svm/base.py:244: ConvergenceWarning: Solver terminated early (max_iter=100).  Consider pre-processing your data with StandardScaler or MinMaxScaler.\n",
      "  % self.max_iter, ConvergenceWarning)\n"
     ]
    },
    {
     "name": "stderr",
     "output_type": "stream",
     "text": [
      "/home/hienle/Documents/AUC Studies/6. Sem 6 - Fall 2018/SCI Text Mining and Collective Intelligence/venv/lib/python3.6/site-packages/sklearn/svm/base.py:244: ConvergenceWarning: Solver terminated early (max_iter=100).  Consider pre-processing your data with StandardScaler or MinMaxScaler.\n",
      "  % self.max_iter, ConvergenceWarning)\n",
      "/home/hienle/Documents/AUC Studies/6. Sem 6 - Fall 2018/SCI Text Mining and Collective Intelligence/venv/lib/python3.6/site-packages/sklearn/svm/base.py:244: ConvergenceWarning: Solver terminated early (max_iter=100).  Consider pre-processing your data with StandardScaler or MinMaxScaler.\n",
      "  % self.max_iter, ConvergenceWarning)\n",
      "/home/hienle/Documents/AUC Studies/6. Sem 6 - Fall 2018/SCI Text Mining and Collective Intelligence/venv/lib/python3.6/site-packages/sklearn/svm/base.py:244: ConvergenceWarning: Solver terminated early (max_iter=100).  Consider pre-processing your data with StandardScaler or MinMaxScaler.\n",
      "  % self.max_iter, ConvergenceWarning)\n",
      "/home/hienle/Documents/AUC Studies/6. Sem 6 - Fall 2018/SCI Text Mining and Collective Intelligence/venv/lib/python3.6/site-packages/sklearn/svm/base.py:244: ConvergenceWarning: Solver terminated early (max_iter=100).  Consider pre-processing your data with StandardScaler or MinMaxScaler.\n",
      "  % self.max_iter, ConvergenceWarning)\n",
      "/home/hienle/Documents/AUC Studies/6. Sem 6 - Fall 2018/SCI Text Mining and Collective Intelligence/venv/lib/python3.6/site-packages/sklearn/svm/base.py:244: ConvergenceWarning: Solver terminated early (max_iter=100).  Consider pre-processing your data with StandardScaler or MinMaxScaler.\n",
      "  % self.max_iter, ConvergenceWarning)\n",
      "/home/hienle/Documents/AUC Studies/6. Sem 6 - Fall 2018/SCI Text Mining and Collective Intelligence/venv/lib/python3.6/site-packages/sklearn/svm/base.py:244: ConvergenceWarning: Solver terminated early (max_iter=100).  Consider pre-processing your data with StandardScaler or MinMaxScaler.\n",
      "  % self.max_iter, ConvergenceWarning)\n",
      "/home/hienle/Documents/AUC Studies/6. Sem 6 - Fall 2018/SCI Text Mining and Collective Intelligence/venv/lib/python3.6/site-packages/sklearn/svm/base.py:244: ConvergenceWarning: Solver terminated early (max_iter=100).  Consider pre-processing your data with StandardScaler or MinMaxScaler.\n",
      "  % self.max_iter, ConvergenceWarning)\n",
      "/home/hienle/Documents/AUC Studies/6. Sem 6 - Fall 2018/SCI Text Mining and Collective Intelligence/venv/lib/python3.6/site-packages/sklearn/svm/base.py:244: ConvergenceWarning: Solver terminated early (max_iter=100).  Consider pre-processing your data with StandardScaler or MinMaxScaler.\n",
      "  % self.max_iter, ConvergenceWarning)\n",
      "/home/hienle/Documents/AUC Studies/6. Sem 6 - Fall 2018/SCI Text Mining and Collective Intelligence/venv/lib/python3.6/site-packages/sklearn/svm/base.py:244: ConvergenceWarning: Solver terminated early (max_iter=1000).  Consider pre-processing your data with StandardScaler or MinMaxScaler.\n",
      "  % self.max_iter, ConvergenceWarning)\n",
      "/home/hienle/Documents/AUC Studies/6. Sem 6 - Fall 2018/SCI Text Mining and Collective Intelligence/venv/lib/python3.6/site-packages/sklearn/svm/base.py:244: ConvergenceWarning: Solver terminated early (max_iter=1000).  Consider pre-processing your data with StandardScaler or MinMaxScaler.\n",
      "  % self.max_iter, ConvergenceWarning)\n",
      "/home/hienle/Documents/AUC Studies/6. Sem 6 - Fall 2018/SCI Text Mining and Collective Intelligence/venv/lib/python3.6/site-packages/sklearn/svm/base.py:244: ConvergenceWarning: Solver terminated early (max_iter=1000).  Consider pre-processing your data with StandardScaler or MinMaxScaler.\n",
      "  % self.max_iter, ConvergenceWarning)\n",
      "/home/hienle/Documents/AUC Studies/6. Sem 6 - Fall 2018/SCI Text Mining and Collective Intelligence/venv/lib/python3.6/site-packages/sklearn/svm/base.py:244: ConvergenceWarning: Solver terminated early (max_iter=1000).  Consider pre-processing your data with StandardScaler or MinMaxScaler.\n",
      "  % self.max_iter, ConvergenceWarning)\n"
     ]
    }
   ],
   "source": [
    "svm_params = {'gamma': [\"auto\", \"scale\"], \"kernel\": [\"linear\", \"poly\", \"rbf\", \"sigmoid\"],\n",
    "                \"max_iter\": [-1, 1, 10, 100, 1000, 10000, 100000]}\n",
    "best_svm_params = tune_params(svm, svm_params, X_train, y_train)"
   ]
  },
  {
   "cell_type": "code",
   "execution_count": 211,
   "metadata": {},
   "outputs": [
    {
     "data": {
      "text/plain": [
       "['scale', 'poly', -1]"
      ]
     },
     "execution_count": 211,
     "metadata": {},
     "output_type": "execute_result"
    }
   ],
   "source": [
    "best_svm_params"
   ]
  },
  {
   "cell_type": "code",
   "execution_count": 212,
   "metadata": {},
   "outputs": [],
   "source": [
    "svm_c = {'C': [0.1, 0.01, 0.001, 1, 10, 100, 1000]}\n",
    "best_svm_c = tune_params(svm, svm_c, X_train, y_train)"
   ]
  },
  {
   "cell_type": "code",
   "execution_count": 213,
   "metadata": {},
   "outputs": [
    {
     "data": {
      "text/plain": [
       "[10]"
      ]
     },
     "execution_count": 213,
     "metadata": {},
     "output_type": "execute_result"
    }
   ],
   "source": [
    "best_svm_c"
   ]
  },
  {
   "cell_type": "code",
   "execution_count": 214,
   "metadata": {},
   "outputs": [],
   "source": [
    "svm_tuned = SVC(gamma=\"scale\", kernel=\"poly\", max_iter=-1, C=10, probability=True).fit(X_train, y_train)"
   ]
  },
  {
   "cell_type": "code",
   "execution_count": 215,
   "metadata": {},
   "outputs": [
    {
     "name": "stdout",
     "output_type": "stream",
     "text": [
      "After customisation, average accuracy of SVM :  0.5235737102937665  standard deviation:  0.016633029610611506\n"
     ]
    }
   ],
   "source": [
    "report_accuracy(\"After\", \"SVM\", svm_tuned, X_train, y_train)"
   ]
  },
  {
   "cell_type": "code",
   "execution_count": 231,
   "metadata": {},
   "outputs": [
    {
     "data": {
      "text/plain": [
       "0.46733668341708545"
      ]
     },
     "execution_count": 231,
     "metadata": {},
     "output_type": "execute_result"
    },
    {
     "name": "stdout",
     "output_type": "stream",
     "text": [
      "              precision    recall  f1-score   support\n",
      "\n",
      "           0       0.40      0.39      0.39       179\n",
      "           1       0.52      0.53      0.52       219\n",
      "\n",
      "   micro avg       0.47      0.47      0.47       398\n",
      "   macro avg       0.46      0.46      0.46       398\n",
      "weighted avg       0.47      0.47      0.47       398\n",
      "\n"
     ]
    }
   ],
   "source": [
    "nb_y_preds = gnb.predict(X_test)\n",
    "accuracy_score(nb_y_preds, y_test)\n",
    "print(classification_report(nb_y_preds, y_test))"
   ]
  },
  {
   "cell_type": "code",
   "execution_count": 232,
   "metadata": {},
   "outputs": [
    {
     "data": {
      "text/plain": [
       "0.4748743718592965"
      ]
     },
     "execution_count": 232,
     "metadata": {},
     "output_type": "execute_result"
    },
    {
     "name": "stdout",
     "output_type": "stream",
     "text": [
      "              precision    recall  f1-score   support\n",
      "\n",
      "           0       0.29      0.36      0.32       138\n",
      "           1       0.61      0.53      0.57       260\n",
      "\n",
      "   micro avg       0.47      0.47      0.47       398\n",
      "   macro avg       0.45      0.45      0.45       398\n",
      "weighted avg       0.50      0.47      0.49       398\n",
      "\n"
     ]
    }
   ],
   "source": [
    "log_y_preds = log_reg_tuned.predict(X_test)\n",
    "accuracy_score(log_y_preds, y_test)\n",
    "print(classification_report(log_y_preds, y_test))"
   ]
  },
  {
   "cell_type": "code",
   "execution_count": 233,
   "metadata": {},
   "outputs": [
    {
     "data": {
      "text/plain": [
       "0.5201005025125628"
      ]
     },
     "execution_count": 233,
     "metadata": {},
     "output_type": "execute_result"
    },
    {
     "name": "stdout",
     "output_type": "stream",
     "text": [
      "              precision    recall  f1-score   support\n",
      "\n",
      "           0       0.24      0.40      0.30       102\n",
      "           1       0.73      0.56      0.63       296\n",
      "\n",
      "   micro avg       0.52      0.52      0.52       398\n",
      "   macro avg       0.49      0.48      0.47       398\n",
      "weighted avg       0.61      0.52      0.55       398\n",
      "\n"
     ]
    }
   ],
   "source": [
    "svm_y_preds = svm_tuned.predict(X_test)\n",
    "accuracy_score(svm_y_preds, y_test)\n",
    "print(classification_report(svm_y_preds, y_test))"
   ]
  },
  {
   "cell_type": "code",
   "execution_count": 194,
   "metadata": {},
   "outputs": [],
   "source": [
    "import scikitplot as skplt"
   ]
  },
  {
   "cell_type": "code",
   "execution_count": 225,
   "metadata": {},
   "outputs": [
    {
     "name": "stderr",
     "output_type": "stream",
     "text": [
      "/home/hienle/Documents/AUC Studies/6. Sem 6 - Fall 2018/SCI Text Mining and Collective Intelligence/venv/lib/python3.6/site-packages/sklearn/utils/deprecation.py:77: DeprecationWarning: Function plot_roc_curve is deprecated; This will be removed in v0.5.0. Please use scikitplot.metrics.plot_roc instead.\n",
      "  warnings.warn(msg, category=DeprecationWarning)\n"
     ]
    },
    {
     "data": {
      "image/png": "[encoded data removed]",
      "text/plain": [
       "<Figure size 432x288 with 1 Axes>"
      ]
     },
     "metadata": {
      "needs_background": "light"
     },
     "output_type": "display_data"
    }
   ],
   "source": [
    "gnb_predicted_probas = gnb.predict_proba(X_test)\n",
    "skplt.metrics.plot_roc_curve(y_test, gnb_predicted_probas, title=\"ROC for GNB - Subjectivity\")\n",
    "plt.show()"
   ]
  },
  {
   "cell_type": "code",
   "execution_count": 226,
   "metadata": {},
   "outputs": [
    {
     "name": "stderr",
     "output_type": "stream",
     "text": [
      "/home/hienle/Documents/AUC Studies/6. Sem 6 - Fall 2018/SCI Text Mining and Collective Intelligence/venv/lib/python3.6/site-packages/sklearn/utils/deprecation.py:77: DeprecationWarning: Function plot_roc_curve is deprecated; This will be removed in v0.5.0. Please use scikitplot.metrics.plot_roc instead.\n",
      "  warnings.warn(msg, category=DeprecationWarning)\n"
     ]
    },
    {
     "data": {
      "image/png": "[encoded data removed]",
      "text/plain": [
       "<Figure size 432x288 with 1 Axes>"
      ]
     },
     "metadata": {
      "needs_background": "light"
     },
     "output_type": "display_data"
    }
   ],
   "source": [
    "logreg_predicted_probas = log_reg_tuned.predict_proba(X_test)\n",
    "skplt.metrics.plot_roc_curve(y_test, logreg_predicted_probas, title=\"ROC for LogReg - Subjectivity\")\n",
    "plt.show()"
   ]
  },
  {
   "cell_type": "code",
   "execution_count": 227,
   "metadata": {},
   "outputs": [
    {
     "name": "stderr",
     "output_type": "stream",
     "text": [
      "/home/hienle/Documents/AUC Studies/6. Sem 6 - Fall 2018/SCI Text Mining and Collective Intelligence/venv/lib/python3.6/site-packages/sklearn/utils/deprecation.py:77: DeprecationWarning: Function plot_roc_curve is deprecated; This will be removed in v0.5.0. Please use scikitplot.metrics.plot_roc instead.\n",
      "  warnings.warn(msg, category=DeprecationWarning)\n"
     ]
    },
    {
     "data": {
      "image/png": "[encoded data removed]",
      "text/plain": [
       "<Figure size 432x288 with 1 Axes>"
      ]
     },
     "metadata": {
      "needs_background": "light"
     },
     "output_type": "display_data"
    }
   ],
   "source": [
    "svm_predicted_probas = svm_tuned.predict_proba(X_test)\n",
    "skplt.metrics.plot_roc_curve(y_test, svm_predicted_probas, title=\"ROC for SVM - Subjectivity\")\n",
    "plt.show()"
   ]
  }
 ],
 "metadata": {
  "kernelspec": {
   "display_name": "Python 3",
   "language": "python",
   "name": "python3"
  },
  "language_info": {
   "codemirror_mode": {
    "name": "ipython",
    "version": 3
   },
   "file_extension": ".py",
   "mimetype": "text/x-python",
   "name": "python",
   "nbconvert_exporter": "python",
   "pygments_lexer": "ipython3",
   "version": "3.6.5"
  }
 },
 "nbformat": 4,
 "nbformat_minor": 2
}
