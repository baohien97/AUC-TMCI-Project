{
 "cells": [
  {
   "cell_type": "code",
   "execution_count": 14,
   "metadata": {},
   "outputs": [],
   "source": [
    "import pandas as pd\n",
    "import numpy as np\n",
    "\n",
    "# sklearn stuff\n",
    "from sklearn.model_selection import train_test_split\n",
    "from sklearn.naive_bayes import GaussianNB\n",
    "from sklearn.linear_model import LogisticRegression\n",
    "from sklearn.svm import SVC\n",
    "\n",
    "#extra\n",
    "from sklearn.neural_network import MLPClassifier\n",
    "\n",
    "# metrics\n",
    "from sklearn.metrics import classification_report\n",
    "from sklearn.metrics import accuracy_score"
   ]
  },
  {
   "cell_type": "code",
   "execution_count": 2,
   "metadata": {},
   "outputs": [],
   "source": [
    "data = pd.read_pickle(\"fully_labeled_data.pkl\")"
   ]
  },
  {
   "cell_type": "code",
   "execution_count": 5,
   "metadata": {},
   "outputs": [],
   "source": [
    "X = [] # sentiment labels\n",
    "y = [] # stock labels\n",
    "\n",
    "for index,row in data.iterrows():\n",
    "    row_sent_labels = []\n",
    "    \n",
    "    for i in range(1, 26):\n",
    "        label = data.at[index, \"Top{}_sent\".format(i)]\n",
    "        row_sent_labels.append(label)\n",
    "    X.append(row_sent_labels)\n",
    "    y.append(data.at[index, \"stock_label\"])\n",
    "    \n",
    "X = np.array(X)\n",
    "\n",
    "X_train, X_test, y_train, y_test = train_test_split(X, y, test_size=0.33, random_state=42)"
   ]
  },
  {
   "cell_type": "markdown",
   "metadata": {},
   "source": [
    "### Naive Bayesian "
   ]
  },
  {
   "cell_type": "code",
   "execution_count": 16,
   "metadata": {},
   "outputs": [
    {
     "name": "stdout",
     "output_type": "stream",
     "text": [
      "              precision    recall  f1-score   support\n",
      "\n",
      "           0       0.45      0.35      0.39       296\n",
      "           1       0.55      0.66      0.60       361\n",
      "\n",
      "   micro avg       0.52      0.52      0.52       657\n",
      "   macro avg       0.50      0.50      0.50       657\n",
      "weighted avg       0.51      0.52      0.51       657\n",
      "\n",
      "Accuracy of Gaussian: 0.517503805175038\n"
     ]
    }
   ],
   "source": [
    "gnb = GaussianNB()\n",
    "nb_y_pred = gnb.fit(X_train, y_train).predict(X_test)\n",
    "\n",
    "print(classification_report(y_test, nb_y_pred))\n",
    "print(\"Accuracy of Gaussian: {}\".format(accuracy_score(y_test, nb_y_pred)))"
   ]
  },
  {
   "cell_type": "markdown",
   "metadata": {},
   "source": [
    "### Logistic Regression"
   ]
  },
  {
   "cell_type": "code",
   "execution_count": 17,
   "metadata": {},
   "outputs": [
    {
     "name": "stdout",
     "output_type": "stream",
     "text": [
      "              precision    recall  f1-score   support\n",
      "\n",
      "           0       0.46      0.34      0.39       296\n",
      "           1       0.56      0.68      0.61       361\n",
      "\n",
      "   micro avg       0.53      0.53      0.53       657\n",
      "   macro avg       0.51      0.51      0.50       657\n",
      "weighted avg       0.51      0.53      0.51       657\n",
      "\n",
      "Accuracy of Log Reg: 0.5251141552511416\n"
     ]
    }
   ],
   "source": [
    "from sklearn.linear_model import LogisticRegression\n",
    "\n",
    "clf = LogisticRegression(random_state=0, solver='lbfgs', multi_class='multinomial').fit(X_train, y_train)\n",
    "log_y_pred = clf.predict(X_test)\n",
    "\n",
    "print(classification_report(y_test, log_y_pred))\n",
    "print(\"Accuracy of Log Reg: {}\".format(accuracy_score(y_test, log_y_pred)))"
   ]
  },
  {
   "cell_type": "markdown",
   "metadata": {},
   "source": [
    "### SVM"
   ]
  },
  {
   "cell_type": "code",
   "execution_count": 18,
   "metadata": {},
   "outputs": [
    {
     "name": "stdout",
     "output_type": "stream",
     "text": [
      "              precision    recall  f1-score   support\n",
      "\n",
      "           0       0.00      0.00      0.00       296\n",
      "           1       0.55      1.00      0.71       361\n",
      "\n",
      "   micro avg       0.55      0.55      0.55       657\n",
      "   macro avg       0.27      0.50      0.35       657\n",
      "weighted avg       0.30      0.55      0.39       657\n",
      "\n",
      "Accuracy of SVM: 0.5494672754946728\n"
     ]
    },
    {
     "name": "stderr",
     "output_type": "stream",
     "text": [
      "/home/hienle/Documents/AUC Studies/6. Sem 6 - Fall 2018/SCI Text Mining and Collective Intelligence/venv/lib/python3.6/site-packages/sklearn/metrics/classification.py:1143: UndefinedMetricWarning: Precision and F-score are ill-defined and being set to 0.0 in labels with no predicted samples.\n",
      "  'precision', 'predicted', average, warn_for)\n"
     ]
    }
   ],
   "source": [
    "svc_clf = SVC(gamma='auto', kernel=\"poly\")\n",
    "svc_y_pred = svc_clf.fit(X_train, y_train).predict(X_test)\n",
    "\n",
    "print(classification_report(y_test, svc_y_pred))\n",
    "print(\"Accuracy of SVM: {}\".format(accuracy_score(y_test, svc_y_pred)))"
   ]
  },
  {
   "cell_type": "markdown",
   "metadata": {},
   "source": [
    "### Visualisation of results"
   ]
  },
  {
   "cell_type": "code",
   "execution_count": 19,
   "metadata": {},
   "outputs": [],
   "source": [
    "nb_acc = accuracy_score(nb_y_pred, y_test)\n",
    "log_acc = accuracy_score(log_y_pred, y_test)\n",
    "svc_acc = accuracy_score(svc_y_pred, y_test)"
   ]
  },
  {
   "cell_type": "code",
   "execution_count": 21,
   "metadata": {},
   "outputs": [],
   "source": [
    "import matplotlib.pyplot as plt\n",
    "import seaborn as sns"
   ]
  },
  {
   "cell_type": "code",
   "execution_count": 39,
   "metadata": {},
   "outputs": [
    {
     "data": {
      "image/png": "[encoded data removed]",
      "text/plain": [
       "<Figure size 720x504 with 1 Axes>"
      ]
     },
     "metadata": {
      "needs_background": "light"
     },
     "output_type": "display_data"
    }
   ],
   "source": [
    "fig, ax = plt.subplots(figsize=(10,7))\n",
    "\n",
    "plt.bar([\"NB\", \"LogReg\", \"SVM\"], [nb_acc, log_acc, svc_acc], color=\"c\")\n",
    "#ax.set_xticklabels([\"NB\", \"LogReg\", \"SVM\"])\n",
    "plt.title(\"Accuracy scores\", size=15)\n",
    "plt.tick_params(axis=\"both\", labelsize=13)"
   ]
  },
  {
   "cell_type": "code",
   "execution_count": null,
   "metadata": {},
   "outputs": [],
   "source": []
  }
 ],
 "metadata": {
  "kernelspec": {
   "display_name": "Python 3",
   "language": "python",
   "name": "python3"
  },
  "language_info": {
   "codemirror_mode": {
    "name": "ipython",
    "version": 3
   },
   "file_extension": ".py",
   "mimetype": "text/x-python",
   "name": "python",
   "nbconvert_exporter": "python",
   "pygments_lexer": "ipython3",
   "version": "3.6.5"
  }
 },
 "nbformat": 4,
 "nbformat_minor": 2
}
